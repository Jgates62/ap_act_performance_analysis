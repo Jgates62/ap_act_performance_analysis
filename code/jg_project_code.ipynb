{
 "cells": [
  {
   "cell_type": "markdown",
   "metadata": {},
   "source": [
    "<img src=\"http://imgur.com/1ZcRyrc.png\" style=\"float: left; margin: 20px; height: 55px\">\n",
    "\n",
    "# Project 1: Standardized Test Analysis"
   ]
  },
  {
   "cell_type": "markdown",
   "metadata": {},
   "source": [
    "--- \n",
    "# Part 1\n",
    "\n",
    "Part 1 requires knowledge of basic Python.\n",
    "\n",
    "---"
   ]
  },
  {
   "cell_type": "markdown",
   "metadata": {},
   "source": [
    "## Problem Statement"
   ]
  },
  {
   "cell_type": "markdown",
   "metadata": {},
   "source": [
    "Decide on your problem statement that will guide your analysis for this project. For guidelines, sample prompts, or inspiration, check out the README.\n",
    "\n",
    "**To-Do:** *Replace this cell with your problem statement.*"
   ]
  },
  {
   "cell_type": "markdown",
   "metadata": {},
   "source": [
    "### Contents:\n",
    "- [Background](#Background)\n",
    "- [Data Import & Cleaning](#Data-Import-and-Cleaning)\n",
    "- [Exploratory Data Analysis](#Exploratory-Data-Analysis)\n",
    "- [Data Visualization](#Visualize-the-Data)\n",
    "- [Conclusions and Recommendations](#Conclusions-and-Recommendations)"
   ]
  },
  {
   "cell_type": "markdown",
   "metadata": {},
   "source": [
    "## Background"
   ]
  },
  {
   "cell_type": "markdown",
   "metadata": {},
   "source": [
    "The SAT and ACT are standardized tests that many colleges and universities in the United States require for their admissions process. This score is used along with other materials such as grade point average (GPA) and essay responses to determine whether or not a potential student will be accepted to the university.\n",
    "\n",
    "The SAT has two sections of the test: Evidence-Based Reading and Writing and Math ([*source*](https://www.princetonreview.com/college/sat-sections)). The ACT has 4 sections: English, Mathematics, Reading, and Science, with an additional optional writing section ([*source*](https://www.act.org/content/act/en/products-and-services/the-act/scores/understanding-your-scores.html)). They have different score ranges, which you can read more about on their websites or additional outside sources (a quick Google search will help you understand the scores for each test):\n",
    "* [SAT](https://collegereadiness.collegeboard.org/sat)\n",
    "* [ACT](https://www.act.org/content/act/en.html)\n",
    "\n",
    "Standardized tests have long been a controversial topic for students, administrators, and legislators. Since the 1940's, an increasing number of colleges have been using scores from sudents' performances on tests like the SAT and the ACT as a measure for college readiness and aptitude ([*source*](https://www.minotdailynews.com/news/local-news/2017/04/a-brief-history-of-the-sat-and-act/)). Supporters of these tests argue that these scores can be used as an objective measure to determine college admittance. Opponents of these tests claim that these tests are not accurate measures of students potential or ability and serve as an inequitable barrier to entry. Lately, more and more schools are opting to drop the SAT/ACT requirement for their Fall 2021 applications ([*read more about this here*](https://www.cnn.com/2020/04/14/us/coronavirus-colleges-sat-act-test-trnd/index.html))."
   ]
  },
  {
   "cell_type": "markdown",
   "metadata": {},
   "source": [
    "**To-Do:** *Fill out this cell (or edit the above cell) with any other background or information that is necessary for your problem statement.*"
   ]
  },
  {
   "cell_type": "markdown",
   "metadata": {},
   "source": [
    "### Choose your Data\n",
    "\n",
    "There are 10 datasets included in the [`data`](./data/) folder for this project. You are required to pick **at least two** of these to complete your analysis. Feel free to use more than two if you would like, or add other relevant datasets you find online.\n",
    "\n",
    "* [`act_2017.csv`](./data/act_2017.csv): 2017 ACT Scores by State\n",
    "* [`act_2018.csv`](./data/act_2018.csv): 2018 ACT Scores by State\n",
    "* [`act_2019.csv`](./data/act_2019.csv): 2019 ACT Scores by State\n",
    "* [`act_2019_ca.csv`](./data/act_2019_ca.csv): 2019 ACT Scores in California by School\n",
    "* [`sat_2017.csv`](./data/sat_2017.csv): 2017 SAT Scores by State\n",
    "* [`sat_2018.csv`](./data/sat_2018.csv): 2018 SAT Scores by State\n",
    "* [`sat_2019.csv`](./data/sat_2019.csv): 2019 SAT Scores by State\n",
    "* [`sat_2019_by_intended_college_major.csv`](./data/sat_2019_by_intended_college_major.csv): 2019 SAT Scores by Intended College Major\n",
    "* [`sat_2019_ca.csv`](./data/sat_2019_ca.csv): 2019 SAT Scores in California by School\n",
    "* [`sat_act_by_college.csv`](./data/sat_act_by_college.csv): Ranges of Accepted ACT & SAT Student Scores by Colleges"
   ]
  },
  {
   "cell_type": "markdown",
   "metadata": {},
   "source": [
    "**To-Do:** *Fill out this cell with the datasets you will use for your analysis. Write a brief description of the contents for each dataset that you choose.*"
   ]
  },
  {
   "cell_type": "markdown",
   "metadata": {},
   "source": [
    "### Outside Research"
   ]
  },
  {
   "cell_type": "markdown",
   "metadata": {},
   "source": [
    "Based on your problem statement and your chosen datasets, spend some time doing outside research on state policies or additional information that might be relevant. Summarize your findings below. If you bring in any outside tables or charts, make sure you are explicit about having borrowed them. If you quote any text, make sure that it renders as being quoted. **Make sure that you cite your sources.**"
   ]
  },
  {
   "cell_type": "markdown",
   "metadata": {},
   "source": [
    "**To-Do:** *Fill out this cell with outside research or any additional background information that will support your analysis.*"
   ]
  },
  {
   "cell_type": "markdown",
   "metadata": {},
   "source": [
    "### Coding Challenges\n",
    "\n",
    "1. Manually calculate mean:\n",
    "\n",
    "    Write a function that takes in values and returns the mean of the values. Create a list of numbers that you test on your function to check to make sure your function works!\n",
    "    \n",
    "    *Note*: Do not use any mean methods built-in to any Python libraries to do this! This should be done without importing any additional libraries."
   ]
  },
  {
   "cell_type": "code",
   "execution_count": 1,
   "metadata": {},
   "outputs": [
    {
     "name": "stdout",
     "output_type": "stream",
     "text": [
      "1.10025\n"
     ]
    },
    {
     "data": {
      "text/plain": [
       "2.0"
      ]
     },
     "execution_count": 1,
     "metadata": {},
     "output_type": "execute_result"
    }
   ],
   "source": [
    "def manual_mean(num_lst): #Expects a list like object containing integers and/or floats\n",
    "    total = 0\n",
    "    for num in num_lst:\n",
    "        total += float(num)\n",
    "    return total / len(num_lst)\n",
    "\n",
    "print(manual_mean([4.20, 1.201, 3, -4]))\n",
    "manual_mean([1, 2, 3])    "
   ]
  },
  {
   "cell_type": "markdown",
   "metadata": {},
   "source": [
    "2. Manually calculate standard deviation:\n",
    "\n",
    "    The formula for standard deviation is below:\n",
    "\n",
    "    $$\\sigma = \\sqrt{\\frac{1}{n}\\sum_{i=1}^n(x_i - \\mu)^2}$$\n",
    "\n",
    "    Where $x_i$ represents each value in the dataset, $\\mu$ represents the mean of all values in the dataset and $n$ represents the number of values in the dataset.\n",
    "\n",
    "    Write a function that takes in values and returns the standard deviation of the values using the formula above. Hint: use the function you wrote above to calculate the mean! Use the list of numbers you created above to test on your function.\n",
    "    \n",
    "    *Note*: Do not use any standard deviation methods built-in to any Python libraries to do this! This should be done without importing any additional libraries."
   ]
  },
  {
   "cell_type": "code",
   "execution_count": 2,
   "metadata": {},
   "outputs": [
    {
     "name": "stdout",
     "output_type": "stream",
     "text": [
      "24.08820458232618\n"
     ]
    },
    {
     "data": {
      "text/plain": [
       "0.816496580927726"
      ]
     },
     "execution_count": 2,
     "metadata": {},
     "output_type": "execute_result"
    }
   ],
   "source": [
    "def manual_std_dev(dset):\n",
    "    n = len(dset)\n",
    "    avg = manual_mean(dset)\n",
    "    sig_total = 0\n",
    "    for i in dset:\n",
    "        sig_total += (i - avg)**2\n",
    "    return  (sig_total/n)**(1/2)\n",
    "  \n",
    "print(manual_std_dev([14, 12, 67, 13.45, 56.7]))\n",
    "manual_std_dev([1, 2, 3])"
   ]
  },
  {
   "cell_type": "markdown",
   "metadata": {},
   "source": [
    "3. Data cleaning function:\n",
    "    \n",
    "    Write a function that takes in a string that is a number and a percent symbol (ex. '50%', '30.5%', etc.) and converts this to a float that is the decimal approximation of the percent. For example, inputting '50%' in your function should return 0.5, '30.5%' should return 0.305, etc. Make sure to test your function to make sure it works!\n",
    "\n",
    "You will use these functions later on in the project!"
   ]
  },
  {
   "cell_type": "code",
   "execution_count": 3,
   "metadata": {},
   "outputs": [
    {
     "name": "stdout",
     "output_type": "stream",
     "text": [
      "0.5\n",
      "0.305\n",
      "0.0056\n",
      "0.21\n"
     ]
    }
   ],
   "source": [
    "def d_clean(percent_str):\n",
    "    return round((float(percent_str[:-1]) * 0.01), 4)\n",
    "    \n",
    "print(d_clean('50%'))\n",
    "print(d_clean('30.5%'))\n",
    "print(d_clean('0.56%'))\n",
    "print(d_clean('21 %'))"
   ]
  },
  {
   "cell_type": "markdown",
   "metadata": {},
   "source": [
    "--- \n",
    "# Part 2\n",
    "\n",
    "Part 2 requires knowledge of Pandas, EDA, data cleaning, and data visualization.\n",
    "\n",
    "---"
   ]
  },
  {
   "cell_type": "markdown",
   "metadata": {},
   "source": [
    "*All libraries used should be added here*"
   ]
  },
  {
   "cell_type": "code",
   "execution_count": 4,
   "metadata": {},
   "outputs": [],
   "source": [
    "import pandas as pd\n",
    "import numpy as np\n",
    "import matplotlib.pyplot as plt\n",
    "import seaborn as sns"
   ]
  },
  {
   "cell_type": "markdown",
   "metadata": {},
   "source": [
    "## Data Import and Cleaning"
   ]
  },
  {
   "cell_type": "markdown",
   "metadata": {},
   "source": [
    "### Data Import & Cleaning\n",
    "\n",
    "Import the datasets that you selected for this project and go through the following steps at a minimum. You are welcome to do further cleaning as you feel necessary:\n",
    "1. Display the data: print the first 5 rows of each dataframe to your Jupyter notebook.\n",
    "2. Check for missing values.\n",
    "3. Check for any obvious issues with the observations (keep in mind the minimum & maximum possible values for each test/subtest).\n",
    "4. Fix any errors you identified in steps 2-3.\n",
    "5. Display the data types of each feature.\n",
    "6. Fix any incorrect data types found in step 5.\n",
    "    - Fix any individual values preventing other columns from being the appropriate type.\n",
    "    - If your dataset has a column of percents (ex. '50%', '30.5%', etc.), use the function you wrote in Part 1 (coding challenges, number 3) to convert this to floats! *Hint*: use `.map()` or `.apply()`.\n",
    "7. Rename Columns.\n",
    "    - Column names should be all lowercase.\n",
    "    - Column names should not contain spaces (underscores will suffice--this allows for using the `df.column_name` method to access columns in addition to `df['column_name']`).\n",
    "    - Column names should be unique and informative.\n",
    "8. Drop unnecessary rows (if needed).\n",
    "9. Merge dataframes that can be merged.\n",
    "10. Perform any additional cleaning that you feel is necessary.\n",
    "11. Save your cleaned and merged dataframes as csv files."
   ]
  },
  {
   "cell_type": "markdown",
   "metadata": {},
   "source": [
    "#### 1. Display the data: print the first 5 rows of each dataframe to your Jupyter notebook"
   ]
  },
  {
   "cell_type": "code",
   "execution_count": 5,
   "metadata": {},
   "outputs": [
    {
     "data": {
      "text/html": [
       "<div>\n",
       "<style scoped>\n",
       "    .dataframe tbody tr th:only-of-type {\n",
       "        vertical-align: middle;\n",
       "    }\n",
       "\n",
       "    .dataframe tbody tr th {\n",
       "        vertical-align: top;\n",
       "    }\n",
       "\n",
       "    .dataframe thead th {\n",
       "        text-align: right;\n",
       "    }\n",
       "</style>\n",
       "<table border=\"1\" class=\"dataframe\">\n",
       "  <thead>\n",
       "    <tr style=\"text-align: right;\">\n",
       "      <th></th>\n",
       "      <th>CDS</th>\n",
       "      <th>CCode</th>\n",
       "      <th>CDCode</th>\n",
       "      <th>SCode</th>\n",
       "      <th>RType</th>\n",
       "      <th>SName</th>\n",
       "      <th>DName</th>\n",
       "      <th>CName</th>\n",
       "      <th>Enroll12</th>\n",
       "      <th>NumTstTakr</th>\n",
       "      <th>AvgScrRead</th>\n",
       "      <th>AvgScrEng</th>\n",
       "      <th>AvgScrMath</th>\n",
       "      <th>AvgScrSci</th>\n",
       "      <th>NumGE21</th>\n",
       "      <th>PctGE21</th>\n",
       "      <th>Year</th>\n",
       "      <th>Unnamed: 17</th>\n",
       "    </tr>\n",
       "  </thead>\n",
       "  <tbody>\n",
       "    <tr>\n",
       "      <th>0</th>\n",
       "      <td>3.366993e+13</td>\n",
       "      <td>33.0</td>\n",
       "      <td>3366993.0</td>\n",
       "      <td>129882.0</td>\n",
       "      <td>S</td>\n",
       "      <td>21st Century Learning Institute</td>\n",
       "      <td>Beaumont Unified</td>\n",
       "      <td>Riverside</td>\n",
       "      <td>18.0</td>\n",
       "      <td>0.0</td>\n",
       "      <td>NaN</td>\n",
       "      <td>NaN</td>\n",
       "      <td>NaN</td>\n",
       "      <td>NaN</td>\n",
       "      <td>NaN</td>\n",
       "      <td>NaN</td>\n",
       "      <td>2018-19</td>\n",
       "      <td>NaN</td>\n",
       "    </tr>\n",
       "    <tr>\n",
       "      <th>1</th>\n",
       "      <td>1.964212e+13</td>\n",
       "      <td>19.0</td>\n",
       "      <td>1964212.0</td>\n",
       "      <td>1995596.0</td>\n",
       "      <td>S</td>\n",
       "      <td>ABC Secondary (Alternative)</td>\n",
       "      <td>ABC Unified</td>\n",
       "      <td>Los Angeles</td>\n",
       "      <td>58.0</td>\n",
       "      <td>0.0</td>\n",
       "      <td>NaN</td>\n",
       "      <td>NaN</td>\n",
       "      <td>NaN</td>\n",
       "      <td>NaN</td>\n",
       "      <td>NaN</td>\n",
       "      <td>NaN</td>\n",
       "      <td>2018-19</td>\n",
       "      <td>NaN</td>\n",
       "    </tr>\n",
       "    <tr>\n",
       "      <th>2</th>\n",
       "      <td>1.563776e+13</td>\n",
       "      <td>15.0</td>\n",
       "      <td>1563776.0</td>\n",
       "      <td>1530377.0</td>\n",
       "      <td>S</td>\n",
       "      <td>Abraham Lincoln Alternative</td>\n",
       "      <td>Southern Kern Unified</td>\n",
       "      <td>Kern</td>\n",
       "      <td>18.0</td>\n",
       "      <td>0.0</td>\n",
       "      <td>NaN</td>\n",
       "      <td>NaN</td>\n",
       "      <td>NaN</td>\n",
       "      <td>NaN</td>\n",
       "      <td>NaN</td>\n",
       "      <td>NaN</td>\n",
       "      <td>2018-19</td>\n",
       "      <td>NaN</td>\n",
       "    </tr>\n",
       "    <tr>\n",
       "      <th>3</th>\n",
       "      <td>4.369666e+13</td>\n",
       "      <td>43.0</td>\n",
       "      <td>4369666.0</td>\n",
       "      <td>4333795.0</td>\n",
       "      <td>S</td>\n",
       "      <td>Abraham Lincoln High</td>\n",
       "      <td>San Jose Unified</td>\n",
       "      <td>Santa Clara</td>\n",
       "      <td>463.0</td>\n",
       "      <td>53.0</td>\n",
       "      <td>23</td>\n",
       "      <td>22</td>\n",
       "      <td>22</td>\n",
       "      <td>23</td>\n",
       "      <td>34</td>\n",
       "      <td>64.15</td>\n",
       "      <td>2018-19</td>\n",
       "      <td>NaN</td>\n",
       "    </tr>\n",
       "    <tr>\n",
       "      <th>4</th>\n",
       "      <td>1.964733e+13</td>\n",
       "      <td>19.0</td>\n",
       "      <td>1964733.0</td>\n",
       "      <td>1935121.0</td>\n",
       "      <td>S</td>\n",
       "      <td>Abraham Lincoln Senior High</td>\n",
       "      <td>Los Angeles Unified</td>\n",
       "      <td>Los Angeles</td>\n",
       "      <td>226.0</td>\n",
       "      <td>19.0</td>\n",
       "      <td>21</td>\n",
       "      <td>20</td>\n",
       "      <td>23</td>\n",
       "      <td>22</td>\n",
       "      <td>11</td>\n",
       "      <td>57.89</td>\n",
       "      <td>2018-19</td>\n",
       "      <td>NaN</td>\n",
       "    </tr>\n",
       "  </tbody>\n",
       "</table>\n",
       "</div>"
      ],
      "text/plain": [
       "            CDS  CCode     CDCode      SCode RType  \\\n",
       "0  3.366993e+13   33.0  3366993.0   129882.0     S   \n",
       "1  1.964212e+13   19.0  1964212.0  1995596.0     S   \n",
       "2  1.563776e+13   15.0  1563776.0  1530377.0     S   \n",
       "3  4.369666e+13   43.0  4369666.0  4333795.0     S   \n",
       "4  1.964733e+13   19.0  1964733.0  1935121.0     S   \n",
       "\n",
       "                             SName                  DName        CName  \\\n",
       "0  21st Century Learning Institute       Beaumont Unified    Riverside   \n",
       "1      ABC Secondary (Alternative)            ABC Unified  Los Angeles   \n",
       "2      Abraham Lincoln Alternative  Southern Kern Unified         Kern   \n",
       "3             Abraham Lincoln High       San Jose Unified  Santa Clara   \n",
       "4      Abraham Lincoln Senior High    Los Angeles Unified  Los Angeles   \n",
       "\n",
       "   Enroll12  NumTstTakr AvgScrRead AvgScrEng AvgScrMath AvgScrSci NumGE21  \\\n",
       "0      18.0         0.0        NaN       NaN        NaN       NaN     NaN   \n",
       "1      58.0         0.0        NaN       NaN        NaN       NaN     NaN   \n",
       "2      18.0         0.0        NaN       NaN        NaN       NaN     NaN   \n",
       "3     463.0        53.0         23        22         22        23      34   \n",
       "4     226.0        19.0         21        20         23        22      11   \n",
       "\n",
       "  PctGE21     Year  Unnamed: 17  \n",
       "0     NaN  2018-19          NaN  \n",
       "1     NaN  2018-19          NaN  \n",
       "2     NaN  2018-19          NaN  \n",
       "3   64.15  2018-19          NaN  \n",
       "4   57.89  2018-19          NaN  "
      ]
     },
     "execution_count": 5,
     "metadata": {},
     "output_type": "execute_result"
    }
   ],
   "source": [
    "#Data Dictionary: https://www.cde.ca.gov/ds/sp/ai/reclayoutact19.asp\n",
    "#Source: https://www.cde.ca.gov/ds/sp/ai/\n",
    "\n",
    "df_act = pd.read_csv(\"../data/act_2019_ca.csv\")\n",
    "df_act.head() #2018-2019"
   ]
  },
  {
   "cell_type": "code",
   "execution_count": 6,
   "metadata": {},
   "outputs": [
    {
     "data": {
      "text/html": [
       "<div>\n",
       "<style scoped>\n",
       "    .dataframe tbody tr th:only-of-type {\n",
       "        vertical-align: middle;\n",
       "    }\n",
       "\n",
       "    .dataframe tbody tr th {\n",
       "        vertical-align: top;\n",
       "    }\n",
       "\n",
       "    .dataframe thead th {\n",
       "        text-align: right;\n",
       "    }\n",
       "</style>\n",
       "<table border=\"1\" class=\"dataframe\">\n",
       "  <thead>\n",
       "    <tr style=\"text-align: right;\">\n",
       "      <th></th>\n",
       "      <th>CDS</th>\n",
       "      <th>CCode</th>\n",
       "      <th>DCode</th>\n",
       "      <th>SCode</th>\n",
       "      <th>RType</th>\n",
       "      <th>SName</th>\n",
       "      <th>DName</th>\n",
       "      <th>CName</th>\n",
       "      <th>StudentGroup</th>\n",
       "      <th>Enroll1012</th>\n",
       "      <th>Enroll12</th>\n",
       "      <th>NumTstTakr</th>\n",
       "      <th>NumScr1</th>\n",
       "      <th>NumScr2</th>\n",
       "      <th>NumScr3</th>\n",
       "      <th>NumScr4</th>\n",
       "      <th>NumScr5</th>\n",
       "      <th>Year</th>\n",
       "    </tr>\n",
       "  </thead>\n",
       "  <tbody>\n",
       "    <tr>\n",
       "      <th>0</th>\n",
       "      <td>7617540734566</td>\n",
       "      <td>7</td>\n",
       "      <td>761754</td>\n",
       "      <td>734566</td>\n",
       "      <td>S</td>\n",
       "      <td>Mt. Diablo High</td>\n",
       "      <td>Mt. Diablo Unified</td>\n",
       "      <td>Contra Costa</td>\n",
       "      <td>AS</td>\n",
       "      <td>60</td>\n",
       "      <td>22</td>\n",
       "      <td>14</td>\n",
       "      <td>*</td>\n",
       "      <td>*</td>\n",
       "      <td>*</td>\n",
       "      <td>*</td>\n",
       "      <td>*</td>\n",
       "      <td>2018-19</td>\n",
       "    </tr>\n",
       "    <tr>\n",
       "      <th>1</th>\n",
       "      <td>10621171030196</td>\n",
       "      <td>10</td>\n",
       "      <td>1062117</td>\n",
       "      <td>1030196</td>\n",
       "      <td>S</td>\n",
       "      <td>Clovis West High</td>\n",
       "      <td>Clovis Unified</td>\n",
       "      <td>Fresno</td>\n",
       "      <td>AA</td>\n",
       "      <td>77</td>\n",
       "      <td>24</td>\n",
       "      <td>16</td>\n",
       "      <td>6</td>\n",
       "      <td>12</td>\n",
       "      <td>5</td>\n",
       "      <td>3</td>\n",
       "      <td>5</td>\n",
       "      <td>2018-19</td>\n",
       "    </tr>\n",
       "    <tr>\n",
       "      <th>2</th>\n",
       "      <td>1612000133397</td>\n",
       "      <td>1</td>\n",
       "      <td>161200</td>\n",
       "      <td>133397</td>\n",
       "      <td>S</td>\n",
       "      <td>Granada High</td>\n",
       "      <td>Livermore Valley Joint Unified</td>\n",
       "      <td>Alameda</td>\n",
       "      <td>AS</td>\n",
       "      <td>142</td>\n",
       "      <td>51</td>\n",
       "      <td>73</td>\n",
       "      <td>8</td>\n",
       "      <td>15</td>\n",
       "      <td>39</td>\n",
       "      <td>44</td>\n",
       "      <td>43</td>\n",
       "      <td>2018-19</td>\n",
       "    </tr>\n",
       "    <tr>\n",
       "      <th>3</th>\n",
       "      <td>16638750101717</td>\n",
       "      <td>16</td>\n",
       "      <td>1663875</td>\n",
       "      <td>101717</td>\n",
       "      <td>S</td>\n",
       "      <td>Crossroads Charter</td>\n",
       "      <td>Armona Union Elementary</td>\n",
       "      <td>Kings</td>\n",
       "      <td>WH</td>\n",
       "      <td>27</td>\n",
       "      <td>7</td>\n",
       "      <td>1</td>\n",
       "      <td>*</td>\n",
       "      <td>*</td>\n",
       "      <td>*</td>\n",
       "      <td>*</td>\n",
       "      <td>*</td>\n",
       "      <td>2018-19</td>\n",
       "    </tr>\n",
       "    <tr>\n",
       "      <th>4</th>\n",
       "      <td>19643781931666</td>\n",
       "      <td>19</td>\n",
       "      <td>1964378</td>\n",
       "      <td>1931666</td>\n",
       "      <td>S</td>\n",
       "      <td>Charter Oak High</td>\n",
       "      <td>Charter Oak Unified</td>\n",
       "      <td>Los Angeles</td>\n",
       "      <td>AI</td>\n",
       "      <td>3</td>\n",
       "      <td>0</td>\n",
       "      <td>1</td>\n",
       "      <td>*</td>\n",
       "      <td>*</td>\n",
       "      <td>*</td>\n",
       "      <td>*</td>\n",
       "      <td>*</td>\n",
       "      <td>2018-19</td>\n",
       "    </tr>\n",
       "  </tbody>\n",
       "</table>\n",
       "</div>"
      ],
      "text/plain": [
       "              CDS  CCode    DCode    SCode RType               SName  \\\n",
       "0   7617540734566      7   761754   734566     S     Mt. Diablo High   \n",
       "1  10621171030196     10  1062117  1030196     S    Clovis West High   \n",
       "2   1612000133397      1   161200   133397     S        Granada High   \n",
       "3  16638750101717     16  1663875   101717     S  Crossroads Charter   \n",
       "4  19643781931666     19  1964378  1931666     S    Charter Oak High   \n",
       "\n",
       "                            DName         CName StudentGroup  Enroll1012  \\\n",
       "0              Mt. Diablo Unified  Contra Costa           AS          60   \n",
       "1                  Clovis Unified        Fresno           AA          77   \n",
       "2  Livermore Valley Joint Unified       Alameda           AS         142   \n",
       "3         Armona Union Elementary         Kings           WH          27   \n",
       "4             Charter Oak Unified   Los Angeles           AI           3   \n",
       "\n",
       "   Enroll12  NumTstTakr NumScr1 NumScr2 NumScr3 NumScr4 NumScr5     Year  \n",
       "0        22          14       *       *       *       *       *  2018-19  \n",
       "1        24          16       6      12       5       3       5  2018-19  \n",
       "2        51          73       8      15      39      44      43  2018-19  \n",
       "3         7           1       *       *       *       *       *  2018-19  \n",
       "4         0           1       *       *       *       *       *  2018-19  "
      ]
     },
     "execution_count": 6,
     "metadata": {},
     "output_type": "execute_result"
    }
   ],
   "source": [
    "# Glossary: https://www.cde.ca.gov/ds/sp/ai/glossaryap2019.asp\n",
    "# Data Source: https://www.cde.ca.gov/ds/sp/ai/\n",
    "# What is the AP? https://www.cde.ca.gov/ds/sp/ai/whatisap.asp\n",
    "\n",
    "df_ap = pd.read_csv(\"../data/ap18_19.csv\")\n",
    "df_ap.head() #2018-2019"
   ]
  },
  {
   "cell_type": "code",
   "execution_count": 7,
   "metadata": {},
   "outputs": [
    {
     "data": {
      "text/html": [
       "<div>\n",
       "<style scoped>\n",
       "    .dataframe tbody tr th:only-of-type {\n",
       "        vertical-align: middle;\n",
       "    }\n",
       "\n",
       "    .dataframe tbody tr th {\n",
       "        vertical-align: top;\n",
       "    }\n",
       "\n",
       "    .dataframe thead th {\n",
       "        text-align: right;\n",
       "    }\n",
       "</style>\n",
       "<table border=\"1\" class=\"dataframe\">\n",
       "  <thead>\n",
       "    <tr style=\"text-align: right;\">\n",
       "      <th></th>\n",
       "      <th>School</th>\n",
       "      <th>Test Optional?</th>\n",
       "      <th>Applies to Class Year(s)</th>\n",
       "      <th>Policy Details</th>\n",
       "      <th>Number of Applicants</th>\n",
       "      <th>Accept Rate</th>\n",
       "      <th>SAT Total 25th-75th Percentile</th>\n",
       "      <th>ACT Total 25th-75th Percentile</th>\n",
       "    </tr>\n",
       "  </thead>\n",
       "  <tbody>\n",
       "    <tr>\n",
       "      <th>0</th>\n",
       "      <td>Stanford University</td>\n",
       "      <td>Yes</td>\n",
       "      <td>2021</td>\n",
       "      <td>Stanford has adopted a one-year test optional ...</td>\n",
       "      <td>47452</td>\n",
       "      <td>4.3%</td>\n",
       "      <td>1440-1570</td>\n",
       "      <td>32-35</td>\n",
       "    </tr>\n",
       "    <tr>\n",
       "      <th>1</th>\n",
       "      <td>Harvard College</td>\n",
       "      <td>Yes</td>\n",
       "      <td>2021</td>\n",
       "      <td>Harvard has adopted a one-year test optional p...</td>\n",
       "      <td>42749</td>\n",
       "      <td>4.7%</td>\n",
       "      <td>1460-1580</td>\n",
       "      <td>33-35</td>\n",
       "    </tr>\n",
       "    <tr>\n",
       "      <th>2</th>\n",
       "      <td>Princeton University</td>\n",
       "      <td>Yes</td>\n",
       "      <td>2021</td>\n",
       "      <td>Princeton has adopted a one-year test optional...</td>\n",
       "      <td>35370</td>\n",
       "      <td>5.5%</td>\n",
       "      <td>1440-1570</td>\n",
       "      <td>32-35</td>\n",
       "    </tr>\n",
       "    <tr>\n",
       "      <th>3</th>\n",
       "      <td>Columbia University</td>\n",
       "      <td>Yes</td>\n",
       "      <td>2021</td>\n",
       "      <td>Columbia has adopted a one-year test optional ...</td>\n",
       "      <td>40203</td>\n",
       "      <td>5.5%</td>\n",
       "      <td>1450-1560</td>\n",
       "      <td>33-35</td>\n",
       "    </tr>\n",
       "    <tr>\n",
       "      <th>4</th>\n",
       "      <td>Yale University</td>\n",
       "      <td>Yes</td>\n",
       "      <td>2021</td>\n",
       "      <td>Yale has adopted a one-year test optional poli...</td>\n",
       "      <td>36844</td>\n",
       "      <td>6.1%</td>\n",
       "      <td>1460-1570</td>\n",
       "      <td>33-35</td>\n",
       "    </tr>\n",
       "  </tbody>\n",
       "</table>\n",
       "</div>"
      ],
      "text/plain": [
       "                 School Test Optional? Applies to Class Year(s)  \\\n",
       "0   Stanford University            Yes                     2021   \n",
       "1       Harvard College            Yes                     2021   \n",
       "2  Princeton University            Yes                     2021   \n",
       "3   Columbia University            Yes                     2021   \n",
       "4       Yale University            Yes                     2021   \n",
       "\n",
       "                                      Policy Details  Number of Applicants  \\\n",
       "0  Stanford has adopted a one-year test optional ...                 47452   \n",
       "1  Harvard has adopted a one-year test optional p...                 42749   \n",
       "2  Princeton has adopted a one-year test optional...                 35370   \n",
       "3  Columbia has adopted a one-year test optional ...                 40203   \n",
       "4  Yale has adopted a one-year test optional poli...                 36844   \n",
       "\n",
       "  Accept Rate SAT Total 25th-75th Percentile ACT Total 25th-75th Percentile  \n",
       "0        4.3%                      1440-1570                          32-35  \n",
       "1        4.7%                      1460-1580                          33-35  \n",
       "2        5.5%                      1440-1570                          32-35  \n",
       "3        5.5%                      1450-1560                          33-35  \n",
       "4        6.1%                      1460-1570                          33-35  "
      ]
     },
     "execution_count": 7,
     "metadata": {},
     "output_type": "execute_result"
    }
   ],
   "source": [
    "# Source: https://www.compassprep.com/college-profiles/\n",
    "\n",
    "df_college = pd.read_csv(\"../data/sat_act_by_college.csv\")\n",
    "df_college.head() #2018-2019"
   ]
  },
  {
   "cell_type": "markdown",
   "metadata": {},
   "source": [
    "Drop any unnecessary columns"
   ]
  },
  {
   "cell_type": "code",
   "execution_count": 8,
   "metadata": {},
   "outputs": [
    {
     "data": {
      "text/plain": [
       "2018-19    2309\n",
       "Name: Year, dtype: int64"
      ]
     },
     "execution_count": 8,
     "metadata": {},
     "output_type": "execute_result"
    }
   ],
   "source": [
    "df_act['Year'].value_counts() #Make sure all our data is from the same year before dropping that column"
   ]
  },
  {
   "cell_type": "code",
   "execution_count": 9,
   "metadata": {},
   "outputs": [
    {
     "data": {
      "text/plain": [
       "2018-19    19308\n",
       "Name: Year, dtype: int64"
      ]
     },
     "execution_count": 9,
     "metadata": {},
     "output_type": "execute_result"
    }
   ],
   "source": [
    "df_ap['Year'].value_counts() #Make sure all our data is from the same year before dropping that column"
   ]
  },
  {
   "cell_type": "code",
   "execution_count": 10,
   "metadata": {},
   "outputs": [
    {
     "data": {
      "text/html": [
       "<div>\n",
       "<style scoped>\n",
       "    .dataframe tbody tr th:only-of-type {\n",
       "        vertical-align: middle;\n",
       "    }\n",
       "\n",
       "    .dataframe tbody tr th {\n",
       "        vertical-align: top;\n",
       "    }\n",
       "\n",
       "    .dataframe thead th {\n",
       "        text-align: right;\n",
       "    }\n",
       "</style>\n",
       "<table border=\"1\" class=\"dataframe\">\n",
       "  <thead>\n",
       "    <tr style=\"text-align: right;\">\n",
       "      <th></th>\n",
       "      <th>CDS</th>\n",
       "      <th>CCode</th>\n",
       "      <th>CDCode</th>\n",
       "      <th>SCode</th>\n",
       "      <th>RType</th>\n",
       "      <th>SName</th>\n",
       "      <th>DName</th>\n",
       "      <th>CName</th>\n",
       "      <th>Enroll12</th>\n",
       "      <th>NumTstTakr</th>\n",
       "      <th>AvgScrRead</th>\n",
       "      <th>AvgScrEng</th>\n",
       "      <th>AvgScrMath</th>\n",
       "      <th>AvgScrSci</th>\n",
       "      <th>NumGE21</th>\n",
       "      <th>PctGE21</th>\n",
       "    </tr>\n",
       "  </thead>\n",
       "  <tbody>\n",
       "    <tr>\n",
       "      <th>0</th>\n",
       "      <td>3.366993e+13</td>\n",
       "      <td>33.0</td>\n",
       "      <td>3366993.0</td>\n",
       "      <td>129882.0</td>\n",
       "      <td>S</td>\n",
       "      <td>21st Century Learning Institute</td>\n",
       "      <td>Beaumont Unified</td>\n",
       "      <td>Riverside</td>\n",
       "      <td>18.0</td>\n",
       "      <td>0.0</td>\n",
       "      <td>NaN</td>\n",
       "      <td>NaN</td>\n",
       "      <td>NaN</td>\n",
       "      <td>NaN</td>\n",
       "      <td>NaN</td>\n",
       "      <td>NaN</td>\n",
       "    </tr>\n",
       "  </tbody>\n",
       "</table>\n",
       "</div>"
      ],
      "text/plain": [
       "            CDS  CCode     CDCode     SCode RType  \\\n",
       "0  3.366993e+13   33.0  3366993.0  129882.0     S   \n",
       "\n",
       "                             SName             DName      CName  Enroll12  \\\n",
       "0  21st Century Learning Institute  Beaumont Unified  Riverside      18.0   \n",
       "\n",
       "   NumTstTakr AvgScrRead AvgScrEng AvgScrMath AvgScrSci NumGE21 PctGE21  \n",
       "0         0.0        NaN       NaN        NaN       NaN     NaN     NaN  "
      ]
     },
     "execution_count": 10,
     "metadata": {},
     "output_type": "execute_result"
    }
   ],
   "source": [
    "df_act = df_act.drop(labels = ['Year', 'Unnamed: 17'] , axis = 1)\n",
    "\n",
    "df_act.head(1)"
   ]
  },
  {
   "cell_type": "code",
   "execution_count": 11,
   "metadata": {},
   "outputs": [
    {
     "data": {
      "text/html": [
       "<div>\n",
       "<style scoped>\n",
       "    .dataframe tbody tr th:only-of-type {\n",
       "        vertical-align: middle;\n",
       "    }\n",
       "\n",
       "    .dataframe tbody tr th {\n",
       "        vertical-align: top;\n",
       "    }\n",
       "\n",
       "    .dataframe thead th {\n",
       "        text-align: right;\n",
       "    }\n",
       "</style>\n",
       "<table border=\"1\" class=\"dataframe\">\n",
       "  <thead>\n",
       "    <tr style=\"text-align: right;\">\n",
       "      <th></th>\n",
       "      <th>CDS</th>\n",
       "      <th>CCode</th>\n",
       "      <th>DCode</th>\n",
       "      <th>SCode</th>\n",
       "      <th>RType</th>\n",
       "      <th>SName</th>\n",
       "      <th>DName</th>\n",
       "      <th>CName</th>\n",
       "      <th>StudentGroup</th>\n",
       "      <th>Enroll1012</th>\n",
       "      <th>Enroll12</th>\n",
       "      <th>NumTstTakr</th>\n",
       "      <th>NumScr1</th>\n",
       "      <th>NumScr2</th>\n",
       "      <th>NumScr3</th>\n",
       "      <th>NumScr4</th>\n",
       "      <th>NumScr5</th>\n",
       "    </tr>\n",
       "  </thead>\n",
       "  <tbody>\n",
       "    <tr>\n",
       "      <th>0</th>\n",
       "      <td>7617540734566</td>\n",
       "      <td>7</td>\n",
       "      <td>761754</td>\n",
       "      <td>734566</td>\n",
       "      <td>S</td>\n",
       "      <td>Mt. Diablo High</td>\n",
       "      <td>Mt. Diablo Unified</td>\n",
       "      <td>Contra Costa</td>\n",
       "      <td>AS</td>\n",
       "      <td>60</td>\n",
       "      <td>22</td>\n",
       "      <td>14</td>\n",
       "      <td>*</td>\n",
       "      <td>*</td>\n",
       "      <td>*</td>\n",
       "      <td>*</td>\n",
       "      <td>*</td>\n",
       "    </tr>\n",
       "  </tbody>\n",
       "</table>\n",
       "</div>"
      ],
      "text/plain": [
       "             CDS  CCode   DCode   SCode RType            SName  \\\n",
       "0  7617540734566      7  761754  734566     S  Mt. Diablo High   \n",
       "\n",
       "                DName         CName StudentGroup  Enroll1012  Enroll12  \\\n",
       "0  Mt. Diablo Unified  Contra Costa           AS          60        22   \n",
       "\n",
       "   NumTstTakr NumScr1 NumScr2 NumScr3 NumScr4 NumScr5  \n",
       "0          14       *       *       *       *       *  "
      ]
     },
     "execution_count": 11,
     "metadata": {},
     "output_type": "execute_result"
    }
   ],
   "source": [
    "df_ap = df_ap.drop(labels = ['Year'] , axis = 1)\n",
    "\n",
    "df_ap.head(1)"
   ]
  },
  {
   "cell_type": "markdown",
   "metadata": {},
   "source": [
    "#### 2. Check for missing values"
   ]
  },
  {
   "cell_type": "code",
   "execution_count": 12,
   "metadata": {},
   "outputs": [
    {
     "data": {
      "text/plain": [
       "CDS             1\n",
       "CCode           1\n",
       "CDCode          1\n",
       "SCode         523\n",
       "RType           1\n",
       "SName         581\n",
       "DName          59\n",
       "CName           1\n",
       "Enroll12        1\n",
       "NumTstTakr      1\n",
       "AvgScrRead    357\n",
       "AvgScrEng     357\n",
       "AvgScrMath    357\n",
       "AvgScrSci     357\n",
       "NumGE21       357\n",
       "PctGE21       357\n",
       "dtype: int64"
      ]
     },
     "execution_count": 12,
     "metadata": {},
     "output_type": "execute_result"
    }
   ],
   "source": [
    "df_act.isna().sum() #Lots of missing values in the df_act dataframe"
   ]
  },
  {
   "cell_type": "code",
   "execution_count": 13,
   "metadata": {},
   "outputs": [
    {
     "data": {
      "text/plain": [
       "CDS                0\n",
       "CCode              0\n",
       "DCode              0\n",
       "SCode              0\n",
       "RType              0\n",
       "SName           5437\n",
       "DName            710\n",
       "CName              0\n",
       "StudentGroup       0\n",
       "Enroll1012         0\n",
       "Enroll12           0\n",
       "NumTstTakr         0\n",
       "NumScr1          516\n",
       "NumScr2          516\n",
       "NumScr3          516\n",
       "NumScr4          516\n",
       "NumScr5          516\n",
       "dtype: int64"
      ]
     },
     "execution_count": 13,
     "metadata": {},
     "output_type": "execute_result"
    }
   ],
   "source": [
    "df_ap.isna().sum() #Lots of missing values in the df_ap dataframe"
   ]
  },
  {
   "cell_type": "code",
   "execution_count": 14,
   "metadata": {},
   "outputs": [
    {
     "data": {
      "text/plain": [
       "School                             0\n",
       "Test Optional?                     0\n",
       "Applies to Class Year(s)          26\n",
       "Policy Details                     0\n",
       "Number of Applicants               0\n",
       "Accept Rate                        0\n",
       "SAT Total 25th-75th Percentile     0\n",
       "ACT Total 25th-75th Percentile     0\n",
       "dtype: int64"
      ]
     },
     "execution_count": 14,
     "metadata": {},
     "output_type": "execute_result"
    }
   ],
   "source": [
    "df_college.isna().sum() # class year has several null values"
   ]
  },
  {
   "cell_type": "markdown",
   "metadata": {},
   "source": [
    "#### 3. Check for any obvious issues with the observations (keep in mind the minimum & maximum possible values for each test/subtest)."
   ]
  },
  {
   "cell_type": "code",
   "execution_count": 15,
   "metadata": {},
   "outputs": [
    {
     "name": "stdout",
     "output_type": "stream",
     "text": [
      "CDS           5.872770e+13\n",
      "CCode         5.800000e+01\n",
      "CDCode        5.872769e+06\n",
      "SCode         6.120893e+06\n",
      "Enroll12      4.896500e+05\n",
      "NumTstTakr    8.266800e+04\n",
      "dtype: float64\n"
     ]
    },
    {
     "data": {
      "text/plain": [
       "CDS           0.0\n",
       "CCode         0.0\n",
       "CDCode        0.0\n",
       "SCode         0.0\n",
       "Enroll12      0.0\n",
       "NumTstTakr    0.0\n",
       "dtype: float64"
      ]
     },
     "execution_count": 15,
     "metadata": {},
     "output_type": "execute_result"
    }
   ],
   "source": [
    "print(df_act.max()) #Several columns missing\n",
    "df_act.min()"
   ]
  },
  {
   "cell_type": "code",
   "execution_count": 16,
   "metadata": {},
   "outputs": [
    {
     "name": "stdout",
     "output_type": "stream",
     "text": [
      "CDS             58727695838305\n",
      "CCode                       58\n",
      "DCode                  5872769\n",
      "SCode                  6120893\n",
      "RType                        X\n",
      "CName                     Yuba\n",
      "StudentGroup                WH\n",
      "Enroll1012             1457183\n",
      "Enroll12                489650\n",
      "NumTstTakr              383274\n",
      "dtype: object\n"
     ]
    },
    {
     "data": {
      "text/plain": [
       "CDS                   0\n",
       "CCode                 0\n",
       "DCode                 0\n",
       "SCode                 0\n",
       "RType                 C\n",
       "CName           Alameda\n",
       "StudentGroup         AA\n",
       "Enroll1012            0\n",
       "Enroll12              0\n",
       "NumTstTakr            0\n",
       "dtype: object"
      ]
     },
     "execution_count": 16,
     "metadata": {},
     "output_type": "execute_result"
    }
   ],
   "source": [
    "print(df_ap.max()) #SName, DName, NumScr1, NumScr2, NumScr3, NumScr4, NumScr5 missing\n",
    "df_ap.min()"
   ]
  },
  {
   "cell_type": "code",
   "execution_count": 17,
   "metadata": {},
   "outputs": [
    {
     "name": "stdout",
     "output_type": "stream",
     "text": [
      "School                                                           Yeshiva University\n",
      "Test Optional?                                                                 Yes*\n",
      "Policy Details                    Yeshiva has adopted a one-year test optional p...\n",
      "Number of Applicants                                                         111322\n",
      "Accept Rate                                                                   99.9%\n",
      "SAT Total 25th-75th Percentile                                         ​​ 1530-1560\n",
      "ACT Total 25th-75th Percentile                                                35-36\n",
      "dtype: object\n"
     ]
    },
    {
     "data": {
      "text/plain": [
       "School                                                 Abilene Christian University\n",
       "Test Optional?                                                                   No\n",
       "Policy Details                    ASU requires either the SAT or ACT however it ...\n",
       "Number of Applicants                                                            211\n",
       "Accept Rate                                                                   10.3%\n",
       "SAT Total 25th-75th Percentile                                                   --\n",
       "ACT Total 25th-75th Percentile                                                   --\n",
       "dtype: object"
      ]
     },
     "execution_count": 17,
     "metadata": {},
     "output_type": "execute_result"
    }
   ],
   "source": [
    "print(df_college.max()) #Applies to class years? is missing\n",
    "df_college.min()"
   ]
  },
  {
   "cell_type": "markdown",
   "metadata": {},
   "source": [
    "#### 4. Fix any errors you identified in steps 2-3."
   ]
  },
  {
   "cell_type": "code",
   "execution_count": 18,
   "metadata": {},
   "outputs": [],
   "source": [
    "# https://chartio.com/resources/tutorials/how-to-check-if-any-value-is-nan-in-a-pandas-dataframe/\n",
    "\n",
    "#Replace '*' values with NAN\n",
    "df_act.replace('*', np.nan, inplace = True) \n",
    "df_ap.replace('*', np.nan, inplace = True)\n",
    "\n",
    "#drop rows with NAN values\n",
    "df_act.dropna(axis = 0, inplace = True)\n",
    "df_ap.dropna(axis = 0, inplace = True)\n",
    "df_college.dropna(axis = 0, inplace = True)"
   ]
  },
  {
   "cell_type": "code",
   "execution_count": 19,
   "metadata": {},
   "outputs": [
    {
     "name": "stdout",
     "output_type": "stream",
     "text": [
      "<class 'pandas.core.frame.DataFrame'>\n",
      "Int64Index: 1017 entries, 3 to 2306\n",
      "Data columns (total 16 columns):\n",
      " #   Column      Non-Null Count  Dtype  \n",
      "---  ------      --------------  -----  \n",
      " 0   CDS         1017 non-null   float64\n",
      " 1   CCode       1017 non-null   float64\n",
      " 2   CDCode      1017 non-null   float64\n",
      " 3   SCode       1017 non-null   float64\n",
      " 4   RType       1017 non-null   object \n",
      " 5   SName       1017 non-null   object \n",
      " 6   DName       1017 non-null   object \n",
      " 7   CName       1017 non-null   object \n",
      " 8   Enroll12    1017 non-null   float64\n",
      " 9   NumTstTakr  1017 non-null   float64\n",
      " 10  AvgScrRead  1017 non-null   object \n",
      " 11  AvgScrEng   1017 non-null   object \n",
      " 12  AvgScrMath  1017 non-null   object \n",
      " 13  AvgScrSci   1017 non-null   object \n",
      " 14  NumGE21     1017 non-null   object \n",
      " 15  PctGE21     1017 non-null   object \n",
      "dtypes: float64(6), object(10)\n",
      "memory usage: 135.1+ KB\n"
     ]
    }
   ],
   "source": [
    "df_act.info()"
   ]
  },
  {
   "cell_type": "code",
   "execution_count": 20,
   "metadata": {},
   "outputs": [
    {
     "name": "stdout",
     "output_type": "stream",
     "text": [
      "<class 'pandas.core.frame.DataFrame'>\n",
      "Int64Index: 5923 entries, 1 to 19306\n",
      "Data columns (total 17 columns):\n",
      " #   Column        Non-Null Count  Dtype \n",
      "---  ------        --------------  ----- \n",
      " 0   CDS           5923 non-null   int64 \n",
      " 1   CCode         5923 non-null   int64 \n",
      " 2   DCode         5923 non-null   int64 \n",
      " 3   SCode         5923 non-null   int64 \n",
      " 4   RType         5923 non-null   object\n",
      " 5   SName         5923 non-null   object\n",
      " 6   DName         5923 non-null   object\n",
      " 7   CName         5923 non-null   object\n",
      " 8   StudentGroup  5923 non-null   object\n",
      " 9   Enroll1012    5923 non-null   int64 \n",
      " 10  Enroll12      5923 non-null   int64 \n",
      " 11  NumTstTakr    5923 non-null   int64 \n",
      " 12  NumScr1       5923 non-null   object\n",
      " 13  NumScr2       5923 non-null   object\n",
      " 14  NumScr3       5923 non-null   object\n",
      " 15  NumScr4       5923 non-null   object\n",
      " 16  NumScr5       5923 non-null   object\n",
      "dtypes: int64(7), object(10)\n",
      "memory usage: 832.9+ KB\n"
     ]
    }
   ],
   "source": [
    "df_ap.info()"
   ]
  },
  {
   "cell_type": "code",
   "execution_count": 21,
   "metadata": {},
   "outputs": [
    {
     "name": "stdout",
     "output_type": "stream",
     "text": [
      "<class 'pandas.core.frame.DataFrame'>\n",
      "Int64Index: 390 entries, 0 to 389\n",
      "Data columns (total 8 columns):\n",
      " #   Column                          Non-Null Count  Dtype \n",
      "---  ------                          --------------  ----- \n",
      " 0   School                          390 non-null    object\n",
      " 1   Test Optional?                  390 non-null    object\n",
      " 2   Applies to Class Year(s)        390 non-null    object\n",
      " 3   Policy Details                  390 non-null    object\n",
      " 4   Number of Applicants            390 non-null    int64 \n",
      " 5   Accept Rate                     390 non-null    object\n",
      " 6   SAT Total 25th-75th Percentile  390 non-null    object\n",
      " 7   ACT Total 25th-75th Percentile  390 non-null    object\n",
      "dtypes: int64(1), object(7)\n",
      "memory usage: 27.4+ KB\n"
     ]
    }
   ],
   "source": [
    "df_college.info()"
   ]
  },
  {
   "cell_type": "markdown",
   "metadata": {},
   "source": [
    "#### 5. Display the data types of each feature."
   ]
  },
  {
   "cell_type": "code",
   "execution_count": 22,
   "metadata": {},
   "outputs": [
    {
     "name": "stdout",
     "output_type": "stream",
     "text": [
      "CDS           float64\n",
      "CCode         float64\n",
      "CDCode        float64\n",
      "SCode         float64\n",
      "RType          object\n",
      "SName          object\n",
      "DName          object\n",
      "CName          object\n",
      "Enroll12      float64\n",
      "NumTstTakr    float64\n",
      "AvgScrRead     object\n",
      "AvgScrEng      object\n",
      "AvgScrMath     object\n",
      "AvgScrSci      object\n",
      "NumGE21        object\n",
      "PctGE21        object\n",
      "dtype: object\n",
      "CDS              int64\n",
      "CCode            int64\n",
      "DCode            int64\n",
      "SCode            int64\n",
      "RType           object\n",
      "SName           object\n",
      "DName           object\n",
      "CName           object\n",
      "StudentGroup    object\n",
      "Enroll1012       int64\n",
      "Enroll12         int64\n",
      "NumTstTakr       int64\n",
      "NumScr1         object\n",
      "NumScr2         object\n",
      "NumScr3         object\n",
      "NumScr4         object\n",
      "NumScr5         object\n",
      "dtype: object\n"
     ]
    },
    {
     "data": {
      "text/plain": [
       "School                            object\n",
       "Test Optional?                    object\n",
       "Applies to Class Year(s)          object\n",
       "Policy Details                    object\n",
       "Number of Applicants               int64\n",
       "Accept Rate                       object\n",
       "SAT Total 25th-75th Percentile    object\n",
       "ACT Total 25th-75th Percentile    object\n",
       "dtype: object"
      ]
     },
     "execution_count": 22,
     "metadata": {},
     "output_type": "execute_result"
    }
   ],
   "source": [
    "print(df_act.dtypes)\n",
    "print(df_ap.dtypes)\n",
    "df_college.dtypes"
   ]
  },
  {
   "cell_type": "markdown",
   "metadata": {},
   "source": [
    "#### 6. Fix any incorrect data types found in step 5."
   ]
  },
  {
   "cell_type": "markdown",
   "metadata": {},
   "source": [
    "We need to convert several columns from df_ap and df_act to float type, and convert one column from df_college to int type"
   ]
  },
  {
   "cell_type": "code",
   "execution_count": 23,
   "metadata": {},
   "outputs": [],
   "source": [
    "#Code adapted from: https://stackoverflow.com/questions/51119808/convert-dataframe-columns-of-object-type-to-float\n",
    "# https://stackoverflow.com/questions/15891038/change-column-type-in-pandas\n",
    "\n",
    "act_flt_cols = ['AvgScrRead', 'AvgScrEng', 'AvgScrMath', 'AvgScrSci', 'NumGE21', 'PctGE21']\n",
    "ap_flt_cols = ['CDS', 'NumScr1', 'NumScr2', 'NumScr3', 'NumScr4', 'NumScr5']\n",
    "\n",
    "df_college['Number of Applicants'] = df_college['Number of Applicants'].astype(dtype = int, errors = 'raise')\n",
    "\n",
    "df_act[act_flt_cols] = df_act[act_flt_cols].astype(dtype = float, errors= 'raise')\n",
    "df_ap[ap_flt_cols] = df_ap[ap_flt_cols].astype(dtype = float, errors = 'raise')"
   ]
  },
  {
   "cell_type": "markdown",
   "metadata": {},
   "source": [
    "Now we need to convert df_college['Accept Rate'] values to a decimal representaion of percentage"
   ]
  },
  {
   "cell_type": "code",
   "execution_count": 24,
   "metadata": {},
   "outputs": [],
   "source": [
    "df_college['Accept Rate'] = [d_clean(val) for val in df_college['Accept Rate']]"
   ]
  },
  {
   "cell_type": "code",
   "execution_count": 25,
   "metadata": {},
   "outputs": [
    {
     "name": "stdout",
     "output_type": "stream",
     "text": [
      "CDS           float64\n",
      "CCode         float64\n",
      "CDCode        float64\n",
      "SCode         float64\n",
      "RType          object\n",
      "SName          object\n",
      "DName          object\n",
      "CName          object\n",
      "Enroll12      float64\n",
      "NumTstTakr    float64\n",
      "AvgScrRead    float64\n",
      "AvgScrEng     float64\n",
      "AvgScrMath    float64\n",
      "AvgScrSci     float64\n",
      "NumGE21       float64\n",
      "PctGE21       float64\n",
      "dtype: object\n",
      "CDS             float64\n",
      "CCode             int64\n",
      "DCode             int64\n",
      "SCode             int64\n",
      "RType            object\n",
      "SName            object\n",
      "DName            object\n",
      "CName            object\n",
      "StudentGroup     object\n",
      "Enroll1012        int64\n",
      "Enroll12          int64\n",
      "NumTstTakr        int64\n",
      "NumScr1         float64\n",
      "NumScr2         float64\n",
      "NumScr3         float64\n",
      "NumScr4         float64\n",
      "NumScr5         float64\n",
      "dtype: object\n"
     ]
    },
    {
     "data": {
      "text/plain": [
       "School                             object\n",
       "Test Optional?                     object\n",
       "Applies to Class Year(s)           object\n",
       "Policy Details                     object\n",
       "Number of Applicants                int32\n",
       "Accept Rate                       float64\n",
       "SAT Total 25th-75th Percentile     object\n",
       "ACT Total 25th-75th Percentile     object\n",
       "dtype: object"
      ]
     },
     "execution_count": 25,
     "metadata": {},
     "output_type": "execute_result"
    }
   ],
   "source": [
    "print(df_act.dtypes)\n",
    "print(df_ap.dtypes)\n",
    "df_college.dtypes"
   ]
  },
  {
   "cell_type": "markdown",
   "metadata": {},
   "source": [
    "#### 7. Rename Columns."
   ]
  },
  {
   "cell_type": "code",
   "execution_count": 26,
   "metadata": {},
   "outputs": [],
   "source": [
    "# Code adapted from:\n",
    "# https://git.generalassemb.ly/DSIR-1011/breakfast-hour/blob/master/02_week/pandas-practice.ipynb\n",
    "\n",
    "df_act.columns = ['act_' + col.replace(' ', '_').lower() for col in df_act.columns ]\n",
    "df_ap.columns = ['ap_' + col.replace(' ', '_').lower() for col in df_ap.columns ]\n",
    "\n",
    "college_headings = {'School':'college_name', 'Test Optional?':'test_optional', 'Applies to Class Year(s)':'class_yrs',\n",
    "      'Policy Details':'policy_details', 'Number of Applicants':'num_applicants', 'Accept Rate':'accept_rate',\n",
    "       'SAT Total 25th-75th Percentile':'sat_iqr', 'ACT Total 25th-75th Percentile':'act_iqr'}\n",
    "\n",
    "df_college.rename(college_headings, axis = 1, inplace = True)"
   ]
  },
  {
   "cell_type": "markdown",
   "metadata": {},
   "source": [
    "#### Now we need to merge df_act and df_ap on their corresponding school code columns"
   ]
  },
  {
   "cell_type": "code",
   "execution_count": 27,
   "metadata": {},
   "outputs": [
    {
     "data": {
      "text/html": [
       "<div>\n",
       "<style scoped>\n",
       "    .dataframe tbody tr th:only-of-type {\n",
       "        vertical-align: middle;\n",
       "    }\n",
       "\n",
       "    .dataframe tbody tr th {\n",
       "        vertical-align: top;\n",
       "    }\n",
       "\n",
       "    .dataframe thead th {\n",
       "        text-align: right;\n",
       "    }\n",
       "</style>\n",
       "<table border=\"1\" class=\"dataframe\">\n",
       "  <thead>\n",
       "    <tr style=\"text-align: right;\">\n",
       "      <th></th>\n",
       "      <th>key_0</th>\n",
       "      <th>act_cds</th>\n",
       "      <th>act_ccode</th>\n",
       "      <th>act_cdcode</th>\n",
       "      <th>act_scode</th>\n",
       "      <th>act_rtype</th>\n",
       "      <th>act_sname</th>\n",
       "      <th>act_dname</th>\n",
       "      <th>act_cname</th>\n",
       "      <th>act_enroll12</th>\n",
       "      <th>...</th>\n",
       "      <th>ap_cname</th>\n",
       "      <th>ap_studentgroup</th>\n",
       "      <th>ap_enroll1012</th>\n",
       "      <th>ap_enroll12</th>\n",
       "      <th>ap_numtsttakr</th>\n",
       "      <th>ap_numscr1</th>\n",
       "      <th>ap_numscr2</th>\n",
       "      <th>ap_numscr3</th>\n",
       "      <th>ap_numscr4</th>\n",
       "      <th>ap_numscr5</th>\n",
       "    </tr>\n",
       "  </thead>\n",
       "  <tbody>\n",
       "    <tr>\n",
       "      <th>0</th>\n",
       "      <td>4333795.0</td>\n",
       "      <td>4.369666e+13</td>\n",
       "      <td>43.0</td>\n",
       "      <td>4369666.0</td>\n",
       "      <td>4333795.0</td>\n",
       "      <td>S</td>\n",
       "      <td>Abraham Lincoln High</td>\n",
       "      <td>San Jose Unified</td>\n",
       "      <td>Santa Clara</td>\n",
       "      <td>463.0</td>\n",
       "      <td>...</td>\n",
       "      <td>Santa Clara</td>\n",
       "      <td>MR</td>\n",
       "      <td>30</td>\n",
       "      <td>11</td>\n",
       "      <td>16</td>\n",
       "      <td>7.0</td>\n",
       "      <td>8.0</td>\n",
       "      <td>7.0</td>\n",
       "      <td>3.0</td>\n",
       "      <td>8.0</td>\n",
       "    </tr>\n",
       "    <tr>\n",
       "      <th>1</th>\n",
       "      <td>4333795.0</td>\n",
       "      <td>4.369666e+13</td>\n",
       "      <td>43.0</td>\n",
       "      <td>4369666.0</td>\n",
       "      <td>4333795.0</td>\n",
       "      <td>S</td>\n",
       "      <td>Abraham Lincoln High</td>\n",
       "      <td>San Jose Unified</td>\n",
       "      <td>Santa Clara</td>\n",
       "      <td>463.0</td>\n",
       "      <td>...</td>\n",
       "      <td>Santa Clara</td>\n",
       "      <td>ALL</td>\n",
       "      <td>1360</td>\n",
       "      <td>463</td>\n",
       "      <td>626</td>\n",
       "      <td>379.0</td>\n",
       "      <td>280.0</td>\n",
       "      <td>215.0</td>\n",
       "      <td>159.0</td>\n",
       "      <td>91.0</td>\n",
       "    </tr>\n",
       "    <tr>\n",
       "      <th>2</th>\n",
       "      <td>4333795.0</td>\n",
       "      <td>4.369666e+13</td>\n",
       "      <td>43.0</td>\n",
       "      <td>4369666.0</td>\n",
       "      <td>4333795.0</td>\n",
       "      <td>S</td>\n",
       "      <td>Abraham Lincoln High</td>\n",
       "      <td>San Jose Unified</td>\n",
       "      <td>Santa Clara</td>\n",
       "      <td>463.0</td>\n",
       "      <td>...</td>\n",
       "      <td>Santa Clara</td>\n",
       "      <td>AS</td>\n",
       "      <td>58</td>\n",
       "      <td>17</td>\n",
       "      <td>38</td>\n",
       "      <td>17.0</td>\n",
       "      <td>18.0</td>\n",
       "      <td>23.0</td>\n",
       "      <td>26.0</td>\n",
       "      <td>17.0</td>\n",
       "    </tr>\n",
       "    <tr>\n",
       "      <th>3</th>\n",
       "      <td>4333795.0</td>\n",
       "      <td>4.369666e+13</td>\n",
       "      <td>43.0</td>\n",
       "      <td>4369666.0</td>\n",
       "      <td>4333795.0</td>\n",
       "      <td>S</td>\n",
       "      <td>Abraham Lincoln High</td>\n",
       "      <td>San Jose Unified</td>\n",
       "      <td>Santa Clara</td>\n",
       "      <td>463.0</td>\n",
       "      <td>...</td>\n",
       "      <td>Santa Clara</td>\n",
       "      <td>EL</td>\n",
       "      <td>218</td>\n",
       "      <td>69</td>\n",
       "      <td>33</td>\n",
       "      <td>30.0</td>\n",
       "      <td>5.0</td>\n",
       "      <td>5.0</td>\n",
       "      <td>4.0</td>\n",
       "      <td>0.0</td>\n",
       "    </tr>\n",
       "    <tr>\n",
       "      <th>4</th>\n",
       "      <td>4333795.0</td>\n",
       "      <td>4.369666e+13</td>\n",
       "      <td>43.0</td>\n",
       "      <td>4369666.0</td>\n",
       "      <td>4333795.0</td>\n",
       "      <td>S</td>\n",
       "      <td>Abraham Lincoln High</td>\n",
       "      <td>San Jose Unified</td>\n",
       "      <td>Santa Clara</td>\n",
       "      <td>463.0</td>\n",
       "      <td>...</td>\n",
       "      <td>Santa Clara</td>\n",
       "      <td>HI</td>\n",
       "      <td>1011</td>\n",
       "      <td>345</td>\n",
       "      <td>427</td>\n",
       "      <td>297.0</td>\n",
       "      <td>173.0</td>\n",
       "      <td>110.0</td>\n",
       "      <td>73.0</td>\n",
       "      <td>34.0</td>\n",
       "    </tr>\n",
       "  </tbody>\n",
       "</table>\n",
       "<p>5 rows × 34 columns</p>\n",
       "</div>"
      ],
      "text/plain": [
       "       key_0       act_cds  act_ccode  act_cdcode  act_scode act_rtype  \\\n",
       "0  4333795.0  4.369666e+13       43.0   4369666.0  4333795.0         S   \n",
       "1  4333795.0  4.369666e+13       43.0   4369666.0  4333795.0         S   \n",
       "2  4333795.0  4.369666e+13       43.0   4369666.0  4333795.0         S   \n",
       "3  4333795.0  4.369666e+13       43.0   4369666.0  4333795.0         S   \n",
       "4  4333795.0  4.369666e+13       43.0   4369666.0  4333795.0         S   \n",
       "\n",
       "              act_sname         act_dname    act_cname  act_enroll12  ...  \\\n",
       "0  Abraham Lincoln High  San Jose Unified  Santa Clara         463.0  ...   \n",
       "1  Abraham Lincoln High  San Jose Unified  Santa Clara         463.0  ...   \n",
       "2  Abraham Lincoln High  San Jose Unified  Santa Clara         463.0  ...   \n",
       "3  Abraham Lincoln High  San Jose Unified  Santa Clara         463.0  ...   \n",
       "4  Abraham Lincoln High  San Jose Unified  Santa Clara         463.0  ...   \n",
       "\n",
       "      ap_cname  ap_studentgroup  ap_enroll1012  ap_enroll12  ap_numtsttakr  \\\n",
       "0  Santa Clara               MR             30           11             16   \n",
       "1  Santa Clara              ALL           1360          463            626   \n",
       "2  Santa Clara               AS             58           17             38   \n",
       "3  Santa Clara               EL            218           69             33   \n",
       "4  Santa Clara               HI           1011          345            427   \n",
       "\n",
       "   ap_numscr1  ap_numscr2  ap_numscr3  ap_numscr4  ap_numscr5  \n",
       "0         7.0         8.0         7.0         3.0         8.0  \n",
       "1       379.0       280.0       215.0       159.0        91.0  \n",
       "2        17.0        18.0        23.0        26.0        17.0  \n",
       "3        30.0         5.0         5.0         4.0         0.0  \n",
       "4       297.0       173.0       110.0        73.0        34.0  \n",
       "\n",
       "[5 rows x 34 columns]"
      ]
     },
     "execution_count": 27,
     "metadata": {},
     "output_type": "execute_result"
    }
   ],
   "source": [
    "ap_act_df = pd.merge(df_act, df_ap, left_on = df_act['act_scode'], right_on = df_ap['ap_scode'])\n",
    "ap_act_df.head()"
   ]
  },
  {
   "cell_type": "markdown",
   "metadata": {},
   "source": [
    "We need to drop rows that have rtype: 'X', this way we will only be looking at individual school records"
   ]
  },
  {
   "cell_type": "code",
   "execution_count": 28,
   "metadata": {},
   "outputs": [],
   "source": [
    "ap_act_df = ap_act_df[ap_act_df.act_rtype != 'X']"
   ]
  },
  {
   "cell_type": "markdown",
   "metadata": {},
   "source": [
    "We only want to keep rows where the student group is 'all' "
   ]
  },
  {
   "cell_type": "code",
   "execution_count": 29,
   "metadata": {},
   "outputs": [],
   "source": [
    "ap_act_df = ap_act_df[ap_act_df.ap_studentgroup == 'ALL'].reset_index(drop = True)"
   ]
  },
  {
   "cell_type": "markdown",
   "metadata": {},
   "source": [
    "Several duplicate and unneeded columns can now be dropped"
   ]
  },
  {
   "cell_type": "code",
   "execution_count": 30,
   "metadata": {},
   "outputs": [],
   "source": [
    "ap_act_df.drop(['act_cds', 'act_scode','ap_scode' ,'ap_dname' , 'ap_cds', 'ap_ccode', \n",
    "                            'ap_dcode', 'ap_rtype', 'ap_sname', 'ap_cname'], axis = 1, inplace = True)"
   ]
  },
  {
   "cell_type": "markdown",
   "metadata": {},
   "source": [
    "We need to rename several columns in our merged dataframe"
   ]
  },
  {
   "cell_type": "code",
   "execution_count": 31,
   "metadata": {},
   "outputs": [],
   "source": [
    "ap_act_df.rename({'key_0': 'scode', 'act_cds' : 'cds', 'act_ccode' : 'ccode', \n",
    "                  'act_cdcode' : 'dcode', 'act_rtype' : 'rtype', 'act_sname' : 'sname', \n",
    "                  'act_dname' : 'dname', 'act_cname' : 'cname'}, axis = 1, inplace = True)"
   ]
  },
  {
   "cell_type": "markdown",
   "metadata": {},
   "source": [
    "Now we need to drop all rows from df_college that are not applicable to all class years"
   ]
  },
  {
   "cell_type": "code",
   "execution_count": 32,
   "metadata": {},
   "outputs": [],
   "source": [
    "#Adapted from: https://stackoverflow.com/questions/18172851/deleting-dataframe-row-in-pandas-based-on-column-value\n",
    "df_college = df_college[df_college.class_yrs == 'All / Permanent Policy'].reset_index(drop = True)"
   ]
  },
  {
   "cell_type": "markdown",
   "metadata": {},
   "source": [
    "And we need to get some useable values out of our act_iqr column"
   ]
  },
  {
   "cell_type": "code",
   "execution_count": 33,
   "metadata": {},
   "outputs": [],
   "source": [
    "# So lets create 2 new columns that represent the upper and lower bounds of the iqr defined in act_iqr\n",
    "\n",
    "lower_iqr = []\n",
    "upper_iqr = []\n",
    "for val in df_college['act_iqr']:\n",
    "    if val != '--':\n",
    "        val = val.split('-')\n",
    "        lower_iqr.append(float(val[0]))\n",
    "        upper_iqr.append(float(val[1]))\n",
    "    else:\n",
    "        lower_iqr.append(0)\n",
    "        upper_iqr.append(0)\n",
    "        \n",
    "df_college['act_iqr_lower'] = lower_iqr\n",
    "df_college['act_iqr_upper'] = upper_iqr"
   ]
  },
  {
   "cell_type": "code",
   "execution_count": 34,
   "metadata": {},
   "outputs": [
    {
     "data": {
      "text/plain": [
       "college_name       object\n",
       "test_optional      object\n",
       "class_yrs          object\n",
       "policy_details     object\n",
       "num_applicants      int32\n",
       "accept_rate       float64\n",
       "sat_iqr            object\n",
       "act_iqr            object\n",
       "act_iqr_lower     float64\n",
       "act_iqr_upper     float64\n",
       "dtype: object"
      ]
     },
     "execution_count": 34,
     "metadata": {},
     "output_type": "execute_result"
    }
   ],
   "source": [
    "df_college.dtypes"
   ]
  },
  {
   "cell_type": "code",
   "execution_count": 35,
   "metadata": {},
   "outputs": [
    {
     "data": {
      "text/html": [
       "<div>\n",
       "<style scoped>\n",
       "    .dataframe tbody tr th:only-of-type {\n",
       "        vertical-align: middle;\n",
       "    }\n",
       "\n",
       "    .dataframe tbody tr th {\n",
       "        vertical-align: top;\n",
       "    }\n",
       "\n",
       "    .dataframe thead th {\n",
       "        text-align: right;\n",
       "    }\n",
       "</style>\n",
       "<table border=\"1\" class=\"dataframe\">\n",
       "  <thead>\n",
       "    <tr style=\"text-align: right;\">\n",
       "      <th></th>\n",
       "      <th>scode</th>\n",
       "      <th>ccode</th>\n",
       "      <th>dcode</th>\n",
       "      <th>rtype</th>\n",
       "      <th>sname</th>\n",
       "      <th>dname</th>\n",
       "      <th>cname</th>\n",
       "      <th>act_enroll12</th>\n",
       "      <th>act_numtsttakr</th>\n",
       "      <th>act_avgscrread</th>\n",
       "      <th>...</th>\n",
       "      <th>act_pctge21</th>\n",
       "      <th>ap_studentgroup</th>\n",
       "      <th>ap_enroll1012</th>\n",
       "      <th>ap_enroll12</th>\n",
       "      <th>ap_numtsttakr</th>\n",
       "      <th>ap_numscr1</th>\n",
       "      <th>ap_numscr2</th>\n",
       "      <th>ap_numscr3</th>\n",
       "      <th>ap_numscr4</th>\n",
       "      <th>ap_numscr5</th>\n",
       "    </tr>\n",
       "  </thead>\n",
       "  <tbody>\n",
       "    <tr>\n",
       "      <th>0</th>\n",
       "      <td>4333795.0</td>\n",
       "      <td>43.0</td>\n",
       "      <td>4369666.0</td>\n",
       "      <td>S</td>\n",
       "      <td>Abraham Lincoln High</td>\n",
       "      <td>San Jose Unified</td>\n",
       "      <td>Santa Clara</td>\n",
       "      <td>463.0</td>\n",
       "      <td>53.0</td>\n",
       "      <td>23.0</td>\n",
       "      <td>...</td>\n",
       "      <td>64.15</td>\n",
       "      <td>ALL</td>\n",
       "      <td>1360</td>\n",
       "      <td>463</td>\n",
       "      <td>626</td>\n",
       "      <td>379.0</td>\n",
       "      <td>280.0</td>\n",
       "      <td>215.0</td>\n",
       "      <td>159.0</td>\n",
       "      <td>91.0</td>\n",
       "    </tr>\n",
       "    <tr>\n",
       "      <th>1</th>\n",
       "      <td>1935121.0</td>\n",
       "      <td>19.0</td>\n",
       "      <td>1964733.0</td>\n",
       "      <td>S</td>\n",
       "      <td>Abraham Lincoln Senior High</td>\n",
       "      <td>Los Angeles Unified</td>\n",
       "      <td>Los Angeles</td>\n",
       "      <td>226.0</td>\n",
       "      <td>19.0</td>\n",
       "      <td>21.0</td>\n",
       "      <td>...</td>\n",
       "      <td>57.89</td>\n",
       "      <td>ALL</td>\n",
       "      <td>712</td>\n",
       "      <td>226</td>\n",
       "      <td>208</td>\n",
       "      <td>130.0</td>\n",
       "      <td>92.0</td>\n",
       "      <td>78.0</td>\n",
       "      <td>57.0</td>\n",
       "      <td>45.0</td>\n",
       "    </tr>\n",
       "    <tr>\n",
       "      <th>2</th>\n",
       "      <td>109926.0</td>\n",
       "      <td>19.0</td>\n",
       "      <td>1976968.0</td>\n",
       "      <td>S</td>\n",
       "      <td>Academia Avance Charter</td>\n",
       "      <td>SBE - Academia Avance Charter</td>\n",
       "      <td>Los Angeles</td>\n",
       "      <td>65.0</td>\n",
       "      <td>33.0</td>\n",
       "      <td>15.0</td>\n",
       "      <td>...</td>\n",
       "      <td>9.09</td>\n",
       "      <td>ALL</td>\n",
       "      <td>195</td>\n",
       "      <td>65</td>\n",
       "      <td>49</td>\n",
       "      <td>36.0</td>\n",
       "      <td>24.0</td>\n",
       "      <td>3.0</td>\n",
       "      <td>1.0</td>\n",
       "      <td>1.0</td>\n",
       "    </tr>\n",
       "    <tr>\n",
       "      <th>3</th>\n",
       "      <td>126615.0</td>\n",
       "      <td>19.0</td>\n",
       "      <td>1964733.0</td>\n",
       "      <td>S</td>\n",
       "      <td>Academies of Education and Empowerment at Cars...</td>\n",
       "      <td>Los Angeles Unified</td>\n",
       "      <td>Los Angeles</td>\n",
       "      <td>126.0</td>\n",
       "      <td>16.0</td>\n",
       "      <td>18.0</td>\n",
       "      <td>...</td>\n",
       "      <td>31.25</td>\n",
       "      <td>ALL</td>\n",
       "      <td>400</td>\n",
       "      <td>126</td>\n",
       "      <td>191</td>\n",
       "      <td>256.0</td>\n",
       "      <td>105.0</td>\n",
       "      <td>44.0</td>\n",
       "      <td>9.0</td>\n",
       "      <td>1.0</td>\n",
       "    </tr>\n",
       "    <tr>\n",
       "      <th>4</th>\n",
       "      <td>730283.0</td>\n",
       "      <td>7.0</td>\n",
       "      <td>761630.0</td>\n",
       "      <td>S</td>\n",
       "      <td>Acalanes High</td>\n",
       "      <td>Acalanes Union High</td>\n",
       "      <td>Contra Costa</td>\n",
       "      <td>353.0</td>\n",
       "      <td>99.0</td>\n",
       "      <td>29.0</td>\n",
       "      <td>...</td>\n",
       "      <td>93.94</td>\n",
       "      <td>ALL</td>\n",
       "      <td>1009</td>\n",
       "      <td>353</td>\n",
       "      <td>447</td>\n",
       "      <td>14.0</td>\n",
       "      <td>73.0</td>\n",
       "      <td>208.0</td>\n",
       "      <td>263.0</td>\n",
       "      <td>228.0</td>\n",
       "    </tr>\n",
       "  </tbody>\n",
       "</table>\n",
       "<p>5 rows × 24 columns</p>\n",
       "</div>"
      ],
      "text/plain": [
       "       scode  ccode      dcode rtype  \\\n",
       "0  4333795.0   43.0  4369666.0     S   \n",
       "1  1935121.0   19.0  1964733.0     S   \n",
       "2   109926.0   19.0  1976968.0     S   \n",
       "3   126615.0   19.0  1964733.0     S   \n",
       "4   730283.0    7.0   761630.0     S   \n",
       "\n",
       "                                               sname  \\\n",
       "0                               Abraham Lincoln High   \n",
       "1                        Abraham Lincoln Senior High   \n",
       "2                            Academia Avance Charter   \n",
       "3  Academies of Education and Empowerment at Cars...   \n",
       "4                                      Acalanes High   \n",
       "\n",
       "                           dname         cname  act_enroll12  act_numtsttakr  \\\n",
       "0               San Jose Unified   Santa Clara         463.0            53.0   \n",
       "1            Los Angeles Unified   Los Angeles         226.0            19.0   \n",
       "2  SBE - Academia Avance Charter   Los Angeles          65.0            33.0   \n",
       "3            Los Angeles Unified   Los Angeles         126.0            16.0   \n",
       "4            Acalanes Union High  Contra Costa         353.0            99.0   \n",
       "\n",
       "   act_avgscrread  ...  act_pctge21  ap_studentgroup  ap_enroll1012  \\\n",
       "0            23.0  ...        64.15              ALL           1360   \n",
       "1            21.0  ...        57.89              ALL            712   \n",
       "2            15.0  ...         9.09              ALL            195   \n",
       "3            18.0  ...        31.25              ALL            400   \n",
       "4            29.0  ...        93.94              ALL           1009   \n",
       "\n",
       "   ap_enroll12  ap_numtsttakr ap_numscr1  ap_numscr2  ap_numscr3  ap_numscr4  \\\n",
       "0          463            626      379.0       280.0       215.0       159.0   \n",
       "1          226            208      130.0        92.0        78.0        57.0   \n",
       "2           65             49       36.0        24.0         3.0         1.0   \n",
       "3          126            191      256.0       105.0        44.0         9.0   \n",
       "4          353            447       14.0        73.0       208.0       263.0   \n",
       "\n",
       "   ap_numscr5  \n",
       "0        91.0  \n",
       "1        45.0  \n",
       "2         1.0  \n",
       "3         1.0  \n",
       "4       228.0  \n",
       "\n",
       "[5 rows x 24 columns]"
      ]
     },
     "execution_count": 35,
     "metadata": {},
     "output_type": "execute_result"
    }
   ],
   "source": [
    "ap_act_df.head()"
   ]
  },
  {
   "cell_type": "markdown",
   "metadata": {},
   "source": [
    "### Data Dictionary\n",
    "\n",
    "Now that we've fixed our data, and given it appropriate names, let's create a [data dictionary](http://library.ucmerced.edu/node/10249). \n",
    "\n",
    "A data dictionary provides a quick overview of features/variables/columns, alongside data types and descriptions. The more descriptive you can be, the more useful this document is.\n",
    "\n",
    "Example of a Fictional Data Dictionary Entry: \n",
    "\n",
    "|Feature|Type|Dataset|Description|\n",
    "|---|---|---|---|\n",
    "|**county_pop**|*integer*|2010 census|The population of the county (units in thousands, where 2.5 represents 2500 people).| \n",
    "|**per_poverty**|*float*|2010 census|The percent of the county over the age of 18 living below the 200% of official US poverty rate (units percent to two decimal places 98.10 means 98.1%)|\n",
    "\n",
    "[Here's a quick link to a short guide for formatting markdown in Jupyter notebooks](https://jupyter-notebook.readthedocs.io/en/stable/examples/Notebook/Working%20With%20Markdown%20Cells.html).\n",
    "\n",
    "Provided is the skeleton for formatting a markdown table, with columns headers that will help you create a data dictionary to quickly summarize your data, as well as some examples. **This would be a great thing to copy and paste into your custom README for this project.**\n",
    "\n",
    "*Note*: if you are unsure of what a feature is, check the source of the data! This can be found in the README."
   ]
  },
  {
   "cell_type": "markdown",
   "metadata": {},
   "source": [
    "|Feature|Type|Dataset|Description|\n",
    "|:---|:---|:---|:---|\n",
    "|college_name|object|df_college|School Name|\n",
    "|test_optional|object|df_college|Whether or not the SAT or ACT was required for application|\n",
    "|class_yrs|object|df_college|Applies to class year(s)|\n",
    "|policy_details|object|df_college|Required test guidelines and exceptions|\n",
    "|num_applicants|int|df_college|Number of people who applied to the current class year|\n",
    "|accept_rate|object|df_college|Decimal percentage of applicants who were accepted|\n",
    "|sat_iqr|object|df_college|Interquartile range of applicant's SAT scores|\n",
    "|act_iqr|object|df_college|Interquartile range of applicant's ACT scores|\n",
    "|act_iqr_lower|float|df_college|Lower limit of ACT score IQR|\n",
    "|act_iqr_upper|float|df_college|Upper limit of ACT score IQR|\n",
    "|scode|float|ap_act_df|School Code|\n",
    "|ccode|float|ap_act_df|County Code|\n",
    "|dcode|float|ap_act_df|District code|\n",
    "|rtype|object|ap_act_df|Record Type: C=County, D=District, S=School, X=State|\n",
    "|sname|object|ap_act_df|School Name|\n",
    "|dname|object|ap_act_df|District Name|\n",
    "|cname|object|ap_act_df|County Name|\n",
    "|act_enroll12|float|ap_act_df|Enrollment of grade 12|\n",
    "|act_numtsttakr|float|ap_act_df|Number of ACT Test Takers|\n",
    "|act_avgscrread|float|ap_act_df|Average ACT Reading Score|\n",
    "|act_avgscreng|float|ap_act_df|Average ACT English Score|\n",
    "|act_avgscrmath|float|ap_act_df|Average ACT Math Score|\n",
    "|act_avgscrsci|float|ap_act_df|Average ACT Science Score|\n",
    "|act_numge21|float|ap_act_df|Number of Test Takers Whose ACT Composite Scores Are Greater or Equal to 21.|\n",
    "|act_pctge21|float|ap_act_df|Percent of Test Takers Whose ACT Composite Scores Are Greater or Equal to 21.|\n",
    "|ap_studentgroup|object|ap_act_df|AP Student Group|\n",
    "|ap_enroll1012|float|ap_act_df|Number of AP students enrolled in grades ten, eleven, and/or twelve.|\n",
    "|ap_enroll12|float|ap_act_df|Number of AP students enrolled in grade twelve.|\n",
    "|ap_numtsttakr|float|ap_act_df|Number of students with AP exam scores as reported by the College Board.|\n",
    "|ap_numscr1|float|ap_act_df|Number of students with an AP exam score of 1.|\n",
    "|ap_numscr2|float|ap_act_df|Number of students with an AP exam score of 2.|\n",
    "|ap_numscr3|float|ap_act_df|Number of students with an AP exam score of 3.|\n",
    "|ap_numscr4|float|ap_act_df|Number of students with an AP exam score of 4.|\n",
    "|ap_numscr5|float|ap_act_df|Number of students with an AP exam score of 5.|\n",
    "|ap_score|float|ap_act_df|Number of students with an AP exam score of 5.|\n",
    "\n"
   ]
  },
  {
   "cell_type": "markdown",
   "metadata": {},
   "source": [
    "## Exploratory Data Analysis\n",
    "\n",
    "Complete the following steps to explore your data. You are welcome to do more EDA than the steps outlined here as you feel necessary:\n",
    "1. Summary Statistics.\n",
    "2. Use a **dictionary comprehension** to apply the standard deviation function you create in part 1 to each numeric column in the dataframe.  **No loops**.\n",
    "    - Assign the output to variable `sd` as a dictionary where: \n",
    "        - Each column name is now a key \n",
    "        - That standard deviation of the column is the value \n",
    "        - *Example Output :* `{'ACT_Math': 120, 'ACT_Reading': 120, ...}`\n",
    "3. Investigate trends in the data.\n",
    "    - Using sorting and/or masking (along with the `.head()` method to avoid printing our entire dataframe), consider questions relevant to your problem statement. Some examples are provided below (but feel free to change these questions for your specific problem):\n",
    "        - Which states have the highest and lowest participation rates for the 2017, 2019, or 2019 SAT and ACT?\n",
    "        - Which states have the highest and lowest mean total/composite scores for the 2017, 2019, or 2019 SAT and ACT?\n",
    "        - Do any states with 100% participation on a given test have a rate change year-to-year?\n",
    "        - Do any states show have >50% participation on *both* tests each year?\n",
    "        - Which colleges have the highest median SAT and ACT scores for admittance?\n",
    "        - Which California school districts have the highest and lowest mean test scores?\n",
    "    - **You should comment on your findings at each step in a markdown cell below your code block**. Make sure you include at least one example of sorting your dataframe by a column, and one example of using boolean filtering (i.e., masking) to select a subset of the dataframe."
   ]
  },
  {
   "cell_type": "markdown",
   "metadata": {},
   "source": [
    "#### 1. Summary Statistics"
   ]
  },
  {
   "cell_type": "code",
   "execution_count": 36,
   "metadata": {},
   "outputs": [
    {
     "data": {
      "text/html": [
       "<div>\n",
       "<style scoped>\n",
       "    .dataframe tbody tr th:only-of-type {\n",
       "        vertical-align: middle;\n",
       "    }\n",
       "\n",
       "    .dataframe tbody tr th {\n",
       "        vertical-align: top;\n",
       "    }\n",
       "\n",
       "    .dataframe thead th {\n",
       "        text-align: right;\n",
       "    }\n",
       "</style>\n",
       "<table border=\"1\" class=\"dataframe\">\n",
       "  <thead>\n",
       "    <tr style=\"text-align: right;\">\n",
       "      <th></th>\n",
       "      <th>scode</th>\n",
       "      <th>ccode</th>\n",
       "      <th>dcode</th>\n",
       "      <th>act_enroll12</th>\n",
       "      <th>act_numtsttakr</th>\n",
       "      <th>act_avgscrread</th>\n",
       "      <th>act_avgscreng</th>\n",
       "      <th>act_avgscrmath</th>\n",
       "      <th>act_avgscrsci</th>\n",
       "      <th>act_numge21</th>\n",
       "      <th>act_pctge21</th>\n",
       "      <th>ap_enroll1012</th>\n",
       "      <th>ap_enroll12</th>\n",
       "      <th>ap_numtsttakr</th>\n",
       "      <th>ap_numscr1</th>\n",
       "      <th>ap_numscr2</th>\n",
       "      <th>ap_numscr3</th>\n",
       "      <th>ap_numscr4</th>\n",
       "      <th>ap_numscr5</th>\n",
       "    </tr>\n",
       "  </thead>\n",
       "  <tbody>\n",
       "    <tr>\n",
       "      <th>count</th>\n",
       "      <td>9.700000e+02</td>\n",
       "      <td>970.000000</td>\n",
       "      <td>9.700000e+02</td>\n",
       "      <td>970.000000</td>\n",
       "      <td>970.000000</td>\n",
       "      <td>970.000000</td>\n",
       "      <td>970.000000</td>\n",
       "      <td>970.000000</td>\n",
       "      <td>970.000000</td>\n",
       "      <td>970.000000</td>\n",
       "      <td>970.000000</td>\n",
       "      <td>970.000000</td>\n",
       "      <td>970.000000</td>\n",
       "      <td>970.000000</td>\n",
       "      <td>970.000000</td>\n",
       "      <td>970.000000</td>\n",
       "      <td>970.000000</td>\n",
       "      <td>970.000000</td>\n",
       "      <td>970.000000</td>\n",
       "    </tr>\n",
       "    <tr>\n",
       "      <th>mean</th>\n",
       "      <td>2.303118e+06</td>\n",
       "      <td>28.024742</td>\n",
       "      <td>2.869350e+06</td>\n",
       "      <td>384.360825</td>\n",
       "      <td>80.807216</td>\n",
       "      <td>21.932990</td>\n",
       "      <td>21.088660</td>\n",
       "      <td>21.347423</td>\n",
       "      <td>21.260825</td>\n",
       "      <td>44.987629</td>\n",
       "      <td>51.782691</td>\n",
       "      <td>1198.843299</td>\n",
       "      <td>384.360825</td>\n",
       "      <td>366.768041</td>\n",
       "      <td>119.503093</td>\n",
       "      <td>157.624742</td>\n",
       "      <td>169.590722</td>\n",
       "      <td>140.562887</td>\n",
       "      <td>104.229897</td>\n",
       "    </tr>\n",
       "    <tr>\n",
       "      <th>std</th>\n",
       "      <td>1.709491e+06</td>\n",
       "      <td>13.463761</td>\n",
       "      <td>1.348898e+06</td>\n",
       "      <td>201.875637</td>\n",
       "      <td>67.336952</td>\n",
       "      <td>3.791338</td>\n",
       "      <td>4.165361</td>\n",
       "      <td>3.492572</td>\n",
       "      <td>3.310709</td>\n",
       "      <td>50.827821</td>\n",
       "      <td>26.372389</td>\n",
       "      <td>614.749277</td>\n",
       "      <td>201.875637</td>\n",
       "      <td>267.360721</td>\n",
       "      <td>119.487712</td>\n",
       "      <td>115.500872</td>\n",
       "      <td>153.230701</td>\n",
       "      <td>167.648296</td>\n",
       "      <td>186.455587</td>\n",
       "    </tr>\n",
       "    <tr>\n",
       "      <th>min</th>\n",
       "      <td>1.000650e+05</td>\n",
       "      <td>1.000000</td>\n",
       "      <td>1.611190e+05</td>\n",
       "      <td>20.000000</td>\n",
       "      <td>15.000000</td>\n",
       "      <td>13.000000</td>\n",
       "      <td>11.000000</td>\n",
       "      <td>15.000000</td>\n",
       "      <td>14.000000</td>\n",
       "      <td>0.000000</td>\n",
       "      <td>0.000000</td>\n",
       "      <td>21.000000</td>\n",
       "      <td>20.000000</td>\n",
       "      <td>16.000000</td>\n",
       "      <td>0.000000</td>\n",
       "      <td>1.000000</td>\n",
       "      <td>0.000000</td>\n",
       "      <td>0.000000</td>\n",
       "      <td>0.000000</td>\n",
       "    </tr>\n",
       "    <tr>\n",
       "      <th>25%</th>\n",
       "      <td>1.381305e+05</td>\n",
       "      <td>19.000000</td>\n",
       "      <td>1.964733e+06</td>\n",
       "      <td>207.000000</td>\n",
       "      <td>34.000000</td>\n",
       "      <td>19.000000</td>\n",
       "      <td>18.000000</td>\n",
       "      <td>18.000000</td>\n",
       "      <td>19.000000</td>\n",
       "      <td>13.000000</td>\n",
       "      <td>28.835000</td>\n",
       "      <td>669.000000</td>\n",
       "      <td>207.000000</td>\n",
       "      <td>163.000000</td>\n",
       "      <td>41.250000</td>\n",
       "      <td>72.000000</td>\n",
       "      <td>53.000000</td>\n",
       "      <td>30.000000</td>\n",
       "      <td>13.000000</td>\n",
       "    </tr>\n",
       "    <tr>\n",
       "      <th>50%</th>\n",
       "      <td>1.939652e+06</td>\n",
       "      <td>30.000000</td>\n",
       "      <td>3.066522e+06</td>\n",
       "      <td>394.000000</td>\n",
       "      <td>61.000000</td>\n",
       "      <td>22.000000</td>\n",
       "      <td>21.000000</td>\n",
       "      <td>21.000000</td>\n",
       "      <td>21.000000</td>\n",
       "      <td>25.000000</td>\n",
       "      <td>53.450000</td>\n",
       "      <td>1247.500000</td>\n",
       "      <td>394.000000</td>\n",
       "      <td>303.000000</td>\n",
       "      <td>83.000000</td>\n",
       "      <td>134.000000</td>\n",
       "      <td>119.000000</td>\n",
       "      <td>74.500000</td>\n",
       "      <td>36.000000</td>\n",
       "    </tr>\n",
       "    <tr>\n",
       "      <th>75%</th>\n",
       "      <td>3.730161e+06</td>\n",
       "      <td>37.000000</td>\n",
       "      <td>3.768346e+06</td>\n",
       "      <td>529.750000</td>\n",
       "      <td>107.000000</td>\n",
       "      <td>25.000000</td>\n",
       "      <td>24.000000</td>\n",
       "      <td>24.000000</td>\n",
       "      <td>24.000000</td>\n",
       "      <td>56.000000</td>\n",
       "      <td>75.000000</td>\n",
       "      <td>1625.500000</td>\n",
       "      <td>529.750000</td>\n",
       "      <td>507.000000</td>\n",
       "      <td>159.000000</td>\n",
       "      <td>222.000000</td>\n",
       "      <td>254.000000</td>\n",
       "      <td>185.000000</td>\n",
       "      <td>102.750000</td>\n",
       "    </tr>\n",
       "    <tr>\n",
       "      <th>max</th>\n",
       "      <td>6.116750e+06</td>\n",
       "      <td>58.000000</td>\n",
       "      <td>5.872769e+06</td>\n",
       "      <td>1135.000000</td>\n",
       "      <td>512.000000</td>\n",
       "      <td>32.000000</td>\n",
       "      <td>32.000000</td>\n",
       "      <td>32.000000</td>\n",
       "      <td>31.000000</td>\n",
       "      <td>392.000000</td>\n",
       "      <td>100.000000</td>\n",
       "      <td>3529.000000</td>\n",
       "      <td>1135.000000</td>\n",
       "      <td>1671.000000</td>\n",
       "      <td>1005.000000</td>\n",
       "      <td>852.000000</td>\n",
       "      <td>1019.000000</td>\n",
       "      <td>1267.000000</td>\n",
       "      <td>1452.000000</td>\n",
       "    </tr>\n",
       "  </tbody>\n",
       "</table>\n",
       "</div>"
      ],
      "text/plain": [
       "              scode       ccode         dcode  act_enroll12  act_numtsttakr  \\\n",
       "count  9.700000e+02  970.000000  9.700000e+02    970.000000      970.000000   \n",
       "mean   2.303118e+06   28.024742  2.869350e+06    384.360825       80.807216   \n",
       "std    1.709491e+06   13.463761  1.348898e+06    201.875637       67.336952   \n",
       "min    1.000650e+05    1.000000  1.611190e+05     20.000000       15.000000   \n",
       "25%    1.381305e+05   19.000000  1.964733e+06    207.000000       34.000000   \n",
       "50%    1.939652e+06   30.000000  3.066522e+06    394.000000       61.000000   \n",
       "75%    3.730161e+06   37.000000  3.768346e+06    529.750000      107.000000   \n",
       "max    6.116750e+06   58.000000  5.872769e+06   1135.000000      512.000000   \n",
       "\n",
       "       act_avgscrread  act_avgscreng  act_avgscrmath  act_avgscrsci  \\\n",
       "count      970.000000     970.000000      970.000000     970.000000   \n",
       "mean        21.932990      21.088660       21.347423      21.260825   \n",
       "std          3.791338       4.165361        3.492572       3.310709   \n",
       "min         13.000000      11.000000       15.000000      14.000000   \n",
       "25%         19.000000      18.000000       18.000000      19.000000   \n",
       "50%         22.000000      21.000000       21.000000      21.000000   \n",
       "75%         25.000000      24.000000       24.000000      24.000000   \n",
       "max         32.000000      32.000000       32.000000      31.000000   \n",
       "\n",
       "       act_numge21  act_pctge21  ap_enroll1012  ap_enroll12  ap_numtsttakr  \\\n",
       "count   970.000000   970.000000     970.000000   970.000000     970.000000   \n",
       "mean     44.987629    51.782691    1198.843299   384.360825     366.768041   \n",
       "std      50.827821    26.372389     614.749277   201.875637     267.360721   \n",
       "min       0.000000     0.000000      21.000000    20.000000      16.000000   \n",
       "25%      13.000000    28.835000     669.000000   207.000000     163.000000   \n",
       "50%      25.000000    53.450000    1247.500000   394.000000     303.000000   \n",
       "75%      56.000000    75.000000    1625.500000   529.750000     507.000000   \n",
       "max     392.000000   100.000000    3529.000000  1135.000000    1671.000000   \n",
       "\n",
       "        ap_numscr1  ap_numscr2   ap_numscr3   ap_numscr4   ap_numscr5  \n",
       "count   970.000000  970.000000   970.000000   970.000000   970.000000  \n",
       "mean    119.503093  157.624742   169.590722   140.562887   104.229897  \n",
       "std     119.487712  115.500872   153.230701   167.648296   186.455587  \n",
       "min       0.000000    1.000000     0.000000     0.000000     0.000000  \n",
       "25%      41.250000   72.000000    53.000000    30.000000    13.000000  \n",
       "50%      83.000000  134.000000   119.000000    74.500000    36.000000  \n",
       "75%     159.000000  222.000000   254.000000   185.000000   102.750000  \n",
       "max    1005.000000  852.000000  1019.000000  1267.000000  1452.000000  "
      ]
     },
     "execution_count": 36,
     "metadata": {},
     "output_type": "execute_result"
    }
   ],
   "source": [
    "ap_act_df.describe()"
   ]
  },
  {
   "cell_type": "markdown",
   "metadata": {},
   "source": [
    "#### 2. Use a dictionary comprehension to apply the standard deviation function you create in part 1 to each numeric column in the dataframe. No loops."
   ]
  },
  {
   "cell_type": "code",
   "execution_count": 37,
   "metadata": {},
   "outputs": [
    {
     "data": {
      "text/plain": [
       "{'scode': 1708610.0751439824,\n",
       " 'ccode': 13.456819303175447,\n",
       " 'dcode': 1348202.6440906136,\n",
       " 'act_enroll12': 201.77155018807574,\n",
       " 'act_numtsttakr': 67.30223376361063,\n",
       " 'act_avgscrread': 3.789383478116675,\n",
       " 'act_avgscreng': 4.1632133774919335,\n",
       " 'act_avgscrmath': 3.4907711251448976,\n",
       " 'act_avgscrsci': 3.309002300847901,\n",
       " 'act_numge21': 50.80161385887643,\n",
       " 'act_pctge21': 26.358791574643206,\n",
       " 'ap_enroll1012': 614.4323137891532,\n",
       " 'ap_enroll12': 201.77155018807574,\n",
       " 'ap_numtsttakr': 267.22287082130106,\n",
       " 'ap_numscr1': 119.42610401554452,\n",
       " 'ap_numscr2': 115.4413199720634,\n",
       " 'ap_numscr3': 153.1516952879801,\n",
       " 'ap_numscr4': 167.56185706234876,\n",
       " 'ap_numscr5': 186.35945129119798}"
      ]
     },
     "execution_count": 37,
     "metadata": {},
     "output_type": "execute_result"
    }
   ],
   "source": [
    "sd = {col : manual_std_dev(ap_act_df[col].values) for col in ap_act_df if ap_act_df[col].dtype != 'object'}\n",
    "sd"
   ]
  },
  {
   "cell_type": "code",
   "execution_count": 38,
   "metadata": {},
   "outputs": [
    {
     "data": {
      "text/plain": [
       "scode             1.709491e+06\n",
       "ccode             1.346376e+01\n",
       "dcode             1.348898e+06\n",
       "act_enroll12      2.018756e+02\n",
       "act_numtsttakr    6.733695e+01\n",
       "act_avgscrread    3.791338e+00\n",
       "act_avgscreng     4.165361e+00\n",
       "act_avgscrmath    3.492572e+00\n",
       "act_avgscrsci     3.310709e+00\n",
       "act_numge21       5.082782e+01\n",
       "act_pctge21       2.637239e+01\n",
       "ap_enroll1012     6.147493e+02\n",
       "ap_enroll12       2.018756e+02\n",
       "ap_numtsttakr     2.673607e+02\n",
       "ap_numscr1        1.194877e+02\n",
       "ap_numscr2        1.155009e+02\n",
       "ap_numscr3        1.532307e+02\n",
       "ap_numscr4        1.676483e+02\n",
       "ap_numscr5        1.864556e+02\n",
       "dtype: float64"
      ]
     },
     "execution_count": 38,
     "metadata": {},
     "output_type": "execute_result"
    }
   ],
   "source": [
    "# Cross reference sd with the .std method to make sure we calculated std dev correctly\n",
    "ap_act_df.std(axis = 0, skipna = True)"
   ]
  },
  {
   "cell_type": "markdown",
   "metadata": {},
   "source": [
    "#### 3. Investigate trends in the data"
   ]
  },
  {
   "cell_type": "code",
   "execution_count": 39,
   "metadata": {},
   "outputs": [
    {
     "data": {
      "text/plain": [
       "Index(['scode', 'ccode', 'dcode', 'rtype', 'sname', 'dname', 'cname',\n",
       "       'act_enroll12', 'act_numtsttakr', 'act_avgscrread', 'act_avgscreng',\n",
       "       'act_avgscrmath', 'act_avgscrsci', 'act_numge21', 'act_pctge21',\n",
       "       'ap_studentgroup', 'ap_enroll1012', 'ap_enroll12', 'ap_numtsttakr',\n",
       "       'ap_numscr1', 'ap_numscr2', 'ap_numscr3', 'ap_numscr4', 'ap_numscr5'],\n",
       "      dtype='object')"
      ]
     },
     "execution_count": 39,
     "metadata": {},
     "output_type": "execute_result"
    }
   ],
   "source": [
    "\n",
    "ap_act_df.columns"
   ]
  },
  {
   "cell_type": "code",
   "execution_count": 40,
   "metadata": {},
   "outputs": [],
   "source": [
    "#Referenced: https://stackoverflow.com/questions/16476924/how-to-iterate-over-rows-in-a-dataframe-in-pandas\n",
    "# In order to compare average act scores with ap scores for each particular school, we need a value to tell\n",
    "# us how good or bad the ap scores are. Since we only have a count of students who got 1, 2, 3, 4, or 5, we\n",
    "# can create a value between 0 and 1 with 1 being the highest possible score.\n",
    "\n",
    "score_lst = []\n",
    "for index, row in ap_act_df.iterrows(): #Each row in the dataframe represents a school\n",
    "    \n",
    "    #possible_pts represents the maximum number of points that a school could get if\n",
    "    #every one of their AP students got a 5 on their test (total number of test takers * max possible points(5))\n",
    "    possible_pts = (row['ap_numscr1'] + row['ap_numscr2'] + row['ap_numscr3'] + \n",
    "                row['ap_numscr4'] + row['ap_numscr5']) * 5\n",
    "    \n",
    "    #actual_pts represents the actual number of points that a school got from their students tests.\n",
    "    #the number of students that got a 5 is multiplied by 5, the number of students that got a 4 is multiplied by 4, etc.\n",
    "    actual_pts = (row['ap_numscr1'] + (row['ap_numscr2'] * 2) + (row['ap_numscr3'] * 3) + \n",
    "                (row['ap_numscr4'] * 4) + (row['ap_numscr5'] * 5))\n",
    "    \n",
    "    #score will be a value between 0 and 1, the closer to 1, the more students with high scores, and vice versa\n",
    "    score = actual_pts/possible_pts\n",
    "    score_lst.append(score)\n",
    "\n",
    "ap_act_df['ap_score'] = score_lst"
   ]
  },
  {
   "cell_type": "code",
   "execution_count": 41,
   "metadata": {},
   "outputs": [
    {
     "data": {
      "image/png": "[encoded data removed]",
      "text/plain": [
       "<Figure size 1008x1008 with 2 Axes>"
      ]
     },
     "metadata": {
      "needs_background": "light"
     },
     "output_type": "display_data"
    }
   ],
   "source": [
    "# Reference: https://git.generalassemb.ly/DSIR-1011/lesson-data-visualization/tree/master/solution-code\n",
    "# https://seaborn.pydata.org/generated/seaborn.heatmap.html\n",
    "\n",
    "#This will give us the correlation of our variables\n",
    "ap_act_corr = ap_act_df.corr()\n",
    "\n",
    "# Establish size of figure.\n",
    "plt.figure(figsize = (14,14))\n",
    "\n",
    "mask = np.zeros_like(ap_act_corr)\n",
    "mask[np.triu_indices_from(mask)] = True\n",
    "\n",
    "# Correlation heatmap, mask the upper triangle to be white\n",
    "sns.heatmap(ap_act_corr, mask = mask, square = True, cmap = 'Greens', annot = True);"
   ]
  },
  {
   "cell_type": "code",
   "execution_count": 61,
   "metadata": {},
   "outputs": [
    {
     "data": {
      "image/png": "[encoded data removed]",
      "text/plain": [
       "<Figure size 1008x360 with 1 Axes>"
      ]
     },
     "metadata": {
      "needs_background": "light"
     },
     "output_type": "display_data"
    }
   ],
   "source": [
    "plt.figure(figsize = (14, 5))\n",
    "\n",
    "plt.scatter(ap_act_df['act_avgscrread'], ap_act_df['ap_score'], color = 'green', alpha = 0.3)\n",
    "\n",
    "plt.title('Relationship between AP test scores and ACT reading scores', fontsize = 17)\n",
    "plt.ylabel('AP Score', fontsize = 14)\n",
    "plt.xlabel('ACT Reading Score', fontsize = 13);\n",
    "plt.savefig('ap_act_reading.jpg', bbox_inches='tight')"
   ]
  },
  {
   "cell_type": "code",
   "execution_count": 60,
   "metadata": {},
   "outputs": [
    {
     "data": {
      "image/png": "[encoded data removed]",
      "text/plain": [
       "<Figure size 1008x360 with 1 Axes>"
      ]
     },
     "metadata": {
      "needs_background": "light"
     },
     "output_type": "display_data"
    }
   ],
   "source": [
    "plt.figure(figsize = (14, 5))\n",
    "\n",
    "plt.scatter(ap_act_df['act_avgscreng'], ap_act_df['ap_score'], color = 'green', alpha = 0.3)\n",
    "\n",
    "plt.title('Relationship between AP test scores and ACT english scores', fontsize = 17)\n",
    "plt.ylabel('AP Score', fontsize = 14)\n",
    "plt.xlabel('ACT English Score', fontsize = 13);\n",
    "plt.savefig('ap_act_english.jpg', bbox_inches='tight')"
   ]
  },
  {
   "cell_type": "code",
   "execution_count": 56,
   "metadata": {},
   "outputs": [
    {
     "data": {
      "image/png": "[encoded data removed]",
      "text/plain": [
       "<Figure size 864x504 with 1 Axes>"
      ]
     },
     "metadata": {
      "needs_background": "light"
     },
     "output_type": "display_data"
    }
   ],
   "source": [
    "plt.figure(figsize = (12, 7))\n",
    "\n",
    "plt.scatter(ap_act_df['act_avgscrmath'], ap_act_df['ap_score'], color = 'green', alpha = 0.3)\n",
    "\n",
    "plt.title('Relationship between AP test scores and ACT math scores', fontsize = 17)\n",
    "plt.ylabel('AP Score', fontsize = 14)\n",
    "plt.xlabel('ACT Math Score', fontsize = 13);\n",
    "plt.savefig('ap_act_math.jpg', bbox_inches='tight')"
   ]
  },
  {
   "cell_type": "code",
   "execution_count": 57,
   "metadata": {},
   "outputs": [
    {
     "data": {
      "image/png": "[encoded data removed]",
      "text/plain": [
       "<Figure size 864x504 with 1 Axes>"
      ]
     },
     "metadata": {
      "needs_background": "light"
     },
     "output_type": "display_data"
    }
   ],
   "source": [
    "plt.figure(figsize = (12, 7))\n",
    "\n",
    "plt.scatter(ap_act_df['act_avgscrsci'], ap_act_df['ap_score'], color = 'green', alpha = 0.3)\n",
    "\n",
    "plt.title('Relationship between AP test scores and ACT science scores', fontsize = 17)\n",
    "plt.ylabel('AP Score', fontsize = 14)\n",
    "plt.xlabel('ACT Science Score', fontsize = 13);\n",
    "plt.savefig('ap_act_science.jpg', bbox_inches='tight')"
   ]
  },
  {
   "cell_type": "code",
   "execution_count": 46,
   "metadata": {},
   "outputs": [
    {
     "data": {
      "text/plain": [
       "Index(['scode', 'ccode', 'dcode', 'rtype', 'sname', 'dname', 'cname',\n",
       "       'act_enroll12', 'act_numtsttakr', 'act_avgscrread', 'act_avgscreng',\n",
       "       'act_avgscrmath', 'act_avgscrsci', 'act_numge21', 'act_pctge21',\n",
       "       'ap_studentgroup', 'ap_enroll1012', 'ap_enroll12', 'ap_numtsttakr',\n",
       "       'ap_numscr1', 'ap_numscr2', 'ap_numscr3', 'ap_numscr4', 'ap_numscr5',\n",
       "       'ap_score'],\n",
       "      dtype='object')"
      ]
     },
     "execution_count": 46,
     "metadata": {},
     "output_type": "execute_result"
    }
   ],
   "source": [
    "ap_act_df.columns"
   ]
  },
  {
   "cell_type": "code",
   "execution_count": 47,
   "metadata": {},
   "outputs": [
    {
     "data": {
      "image/png": "[encoded data removed]",
      "text/plain": [
       "<Figure size 720x720 with 2 Axes>"
      ]
     },
     "metadata": {
      "needs_background": "light"
     },
     "output_type": "display_data"
    }
   ],
   "source": [
    "#Heatmap showing the correlation between the different ap groups, and avg act scores\n",
    "\n",
    "# Get correlation of variables.\n",
    "ap_act_corr2 = ap_act_df[['act_avgscrread', 'act_avgscreng',\n",
    "       'act_avgscrmath', 'act_avgscrsci', 'ap_score']].corr()\n",
    "\n",
    "# Establish size of figure.\n",
    "plt.figure(figsize = (10,10))\n",
    "\n",
    "# Plot our correlation heatmap, while masking the upper triangle to be white.\n",
    "sns.heatmap(ap_act_corr2, vmin = 0,\n",
    "    vmax = 1,mask = False, square = True, cmap = 'Greens', annot = True);"
   ]
  },
  {
   "cell_type": "markdown",
   "metadata": {},
   "source": [
    "Above we can see a strong correlation between AP student test scores, and ACT test scores across all categories. The higher the AP test score, the more likely the ACT test score is to be on the higher end."
   ]
  },
  {
   "cell_type": "code",
   "execution_count": 48,
   "metadata": {},
   "outputs": [
    {
     "data": {
      "image/png": "[encoded data removed]",
      "text/plain": [
       "<Figure size 720x720 with 2 Axes>"
      ]
     },
     "metadata": {
      "needs_background": "light"
     },
     "output_type": "display_data"
    }
   ],
   "source": [
    "#Let's take a look at correlation in our df_college dataframe\n",
    "df_college_corr = df_college.corr()\n",
    "\n",
    "\n",
    "plt.figure(figsize = (10,10))\n",
    "sns.heatmap(df_college_corr, square = True, cmap = 'Greens', annot = True);"
   ]
  },
  {
   "cell_type": "markdown",
   "metadata": {},
   "source": [
    "Based on the above heatmap, there is a negative correlation between acceptance rate and the upper and lower limits of the ACT IQR. Simply put, schools with lower acceptance rates tend to admit students with higher ACT scores. We can also see that the number of applicants has an extremely low level of correlation with acceptance rate, and the ACT IQR of the students they admit. So even though a school may see an extremely high number of applicants, their acceptance rate is a much more meaningful metric when considering target ACT scores."
   ]
  },
  {
   "cell_type": "code",
   "execution_count": 55,
   "metadata": {},
   "outputs": [
    {
     "data": {
      "image/png": "[encoded data removed]",
      "text/plain": [
       "<Figure size 1080x288 with 1 Axes>"
      ]
     },
     "metadata": {
      "needs_background": "light"
     },
     "output_type": "display_data"
    }
   ],
   "source": [
    "plt.figure(figsize = (15, 4))\n",
    "\n",
    "plt.scatter(df_college['accept_rate'], df_college['act_iqr_upper'], color = 'green', alpha = 0.3)\n",
    "plt.scatter(df_college['accept_rate'], df_college['act_iqr_lower'], color = 'blue', alpha = 0.3)\n",
    "\n",
    "plt.title('Relationship between ACT score and college acceptance rate', fontsize = 17)\n",
    "plt.ylabel('ACT Score', fontsize = 13)\n",
    "plt.xlabel('College Acceptance Rate (1.0 = 100% acceptance rate)', fontsize = 13);\n",
    "plt.ylim(15, 37)\n",
    "plt.savefig('act_college_accept.jpg', bbox_inches='tight')"
   ]
  },
  {
   "cell_type": "code",
   "execution_count": 50,
   "metadata": {},
   "outputs": [],
   "source": [
    "#For schools with an acceptance rate of less than 10%, "
   ]
  },
  {
   "cell_type": "code",
   "execution_count": 51,
   "metadata": {},
   "outputs": [
    {
     "data": {
      "text/plain": [
       "Index(['college_name', 'test_optional', 'class_yrs', 'policy_details',\n",
       "       'num_applicants', 'accept_rate', 'sat_iqr', 'act_iqr', 'act_iqr_lower',\n",
       "       'act_iqr_upper'],\n",
       "      dtype='object')"
      ]
     },
     "execution_count": 51,
     "metadata": {},
     "output_type": "execute_result"
    }
   ],
   "source": [
    "df_college.columns"
   ]
  },
  {
   "cell_type": "code",
   "execution_count": 52,
   "metadata": {},
   "outputs": [
    {
     "ename": "KeyError",
     "evalue": "''",
     "output_type": "error",
     "traceback": [
      "\u001b[1;31m---------------------------------------------------------------------------\u001b[0m",
      "\u001b[1;31mKeyError\u001b[0m                                  Traceback (most recent call last)",
      "\u001b[1;32m~\\anaconda3\\lib\\site-packages\\pandas\\core\\indexes\\base.py\u001b[0m in \u001b[0;36mget_loc\u001b[1;34m(self, key, method, tolerance)\u001b[0m\n\u001b[0;32m   3079\u001b[0m             \u001b[1;32mtry\u001b[0m\u001b[1;33m:\u001b[0m\u001b[1;33m\u001b[0m\u001b[1;33m\u001b[0m\u001b[0m\n\u001b[1;32m-> 3080\u001b[1;33m                 \u001b[1;32mreturn\u001b[0m \u001b[0mself\u001b[0m\u001b[1;33m.\u001b[0m\u001b[0m_engine\u001b[0m\u001b[1;33m.\u001b[0m\u001b[0mget_loc\u001b[0m\u001b[1;33m(\u001b[0m\u001b[0mcasted_key\u001b[0m\u001b[1;33m)\u001b[0m\u001b[1;33m\u001b[0m\u001b[1;33m\u001b[0m\u001b[0m\n\u001b[0m\u001b[0;32m   3081\u001b[0m             \u001b[1;32mexcept\u001b[0m \u001b[0mKeyError\u001b[0m \u001b[1;32mas\u001b[0m \u001b[0merr\u001b[0m\u001b[1;33m:\u001b[0m\u001b[1;33m\u001b[0m\u001b[1;33m\u001b[0m\u001b[0m\n",
      "\u001b[1;32mpandas\\_libs\\index.pyx\u001b[0m in \u001b[0;36mpandas._libs.index.IndexEngine.get_loc\u001b[1;34m()\u001b[0m\n",
      "\u001b[1;32mpandas\\_libs\\index.pyx\u001b[0m in \u001b[0;36mpandas._libs.index.IndexEngine.get_loc\u001b[1;34m()\u001b[0m\n",
      "\u001b[1;32mpandas\\_libs\\hashtable_class_helper.pxi\u001b[0m in \u001b[0;36mpandas._libs.hashtable.PyObjectHashTable.get_item\u001b[1;34m()\u001b[0m\n",
      "\u001b[1;32mpandas\\_libs\\hashtable_class_helper.pxi\u001b[0m in \u001b[0;36mpandas._libs.hashtable.PyObjectHashTable.get_item\u001b[1;34m()\u001b[0m\n",
      "\u001b[1;31mKeyError\u001b[0m: ''",
      "\nThe above exception was the direct cause of the following exception:\n",
      "\u001b[1;31mKeyError\u001b[0m                                  Traceback (most recent call last)",
      "\u001b[1;32m<ipython-input-52-29efdc6dd001>\u001b[0m in \u001b[0;36m<module>\u001b[1;34m\u001b[0m\n\u001b[0;32m      1\u001b[0m \u001b[1;31m#For the df_college dataframe, make a histogram with upper act_iqr/lower act_iqr and\u001b[0m\u001b[1;33m\u001b[0m\u001b[1;33m\u001b[0m\u001b[1;33m\u001b[0m\u001b[0m\n\u001b[0;32m      2\u001b[0m \u001b[1;33m\u001b[0m\u001b[0m\n\u001b[1;32m----> 3\u001b[1;33m \u001b[0mplt\u001b[0m\u001b[1;33m.\u001b[0m\u001b[0mhist\u001b[0m\u001b[1;33m(\u001b[0m\u001b[0mdf_college\u001b[0m\u001b[1;33m[\u001b[0m\u001b[1;34m''\u001b[0m\u001b[1;33m]\u001b[0m\u001b[1;33m)\u001b[0m\u001b[1;33m\u001b[0m\u001b[1;33m\u001b[0m\u001b[0m\n\u001b[0m",
      "\u001b[1;32m~\\anaconda3\\lib\\site-packages\\pandas\\core\\frame.py\u001b[0m in \u001b[0;36m__getitem__\u001b[1;34m(self, key)\u001b[0m\n\u001b[0;32m   3022\u001b[0m             \u001b[1;32mif\u001b[0m \u001b[0mself\u001b[0m\u001b[1;33m.\u001b[0m\u001b[0mcolumns\u001b[0m\u001b[1;33m.\u001b[0m\u001b[0mnlevels\u001b[0m \u001b[1;33m>\u001b[0m \u001b[1;36m1\u001b[0m\u001b[1;33m:\u001b[0m\u001b[1;33m\u001b[0m\u001b[1;33m\u001b[0m\u001b[0m\n\u001b[0;32m   3023\u001b[0m                 \u001b[1;32mreturn\u001b[0m \u001b[0mself\u001b[0m\u001b[1;33m.\u001b[0m\u001b[0m_getitem_multilevel\u001b[0m\u001b[1;33m(\u001b[0m\u001b[0mkey\u001b[0m\u001b[1;33m)\u001b[0m\u001b[1;33m\u001b[0m\u001b[1;33m\u001b[0m\u001b[0m\n\u001b[1;32m-> 3024\u001b[1;33m             \u001b[0mindexer\u001b[0m \u001b[1;33m=\u001b[0m \u001b[0mself\u001b[0m\u001b[1;33m.\u001b[0m\u001b[0mcolumns\u001b[0m\u001b[1;33m.\u001b[0m\u001b[0mget_loc\u001b[0m\u001b[1;33m(\u001b[0m\u001b[0mkey\u001b[0m\u001b[1;33m)\u001b[0m\u001b[1;33m\u001b[0m\u001b[1;33m\u001b[0m\u001b[0m\n\u001b[0m\u001b[0;32m   3025\u001b[0m             \u001b[1;32mif\u001b[0m \u001b[0mis_integer\u001b[0m\u001b[1;33m(\u001b[0m\u001b[0mindexer\u001b[0m\u001b[1;33m)\u001b[0m\u001b[1;33m:\u001b[0m\u001b[1;33m\u001b[0m\u001b[1;33m\u001b[0m\u001b[0m\n\u001b[0;32m   3026\u001b[0m                 \u001b[0mindexer\u001b[0m \u001b[1;33m=\u001b[0m \u001b[1;33m[\u001b[0m\u001b[0mindexer\u001b[0m\u001b[1;33m]\u001b[0m\u001b[1;33m\u001b[0m\u001b[1;33m\u001b[0m\u001b[0m\n",
      "\u001b[1;32m~\\anaconda3\\lib\\site-packages\\pandas\\core\\indexes\\base.py\u001b[0m in \u001b[0;36mget_loc\u001b[1;34m(self, key, method, tolerance)\u001b[0m\n\u001b[0;32m   3080\u001b[0m                 \u001b[1;32mreturn\u001b[0m \u001b[0mself\u001b[0m\u001b[1;33m.\u001b[0m\u001b[0m_engine\u001b[0m\u001b[1;33m.\u001b[0m\u001b[0mget_loc\u001b[0m\u001b[1;33m(\u001b[0m\u001b[0mcasted_key\u001b[0m\u001b[1;33m)\u001b[0m\u001b[1;33m\u001b[0m\u001b[1;33m\u001b[0m\u001b[0m\n\u001b[0;32m   3081\u001b[0m             \u001b[1;32mexcept\u001b[0m \u001b[0mKeyError\u001b[0m \u001b[1;32mas\u001b[0m \u001b[0merr\u001b[0m\u001b[1;33m:\u001b[0m\u001b[1;33m\u001b[0m\u001b[1;33m\u001b[0m\u001b[0m\n\u001b[1;32m-> 3082\u001b[1;33m                 \u001b[1;32mraise\u001b[0m \u001b[0mKeyError\u001b[0m\u001b[1;33m(\u001b[0m\u001b[0mkey\u001b[0m\u001b[1;33m)\u001b[0m \u001b[1;32mfrom\u001b[0m \u001b[0merr\u001b[0m\u001b[1;33m\u001b[0m\u001b[1;33m\u001b[0m\u001b[0m\n\u001b[0m\u001b[0;32m   3083\u001b[0m \u001b[1;33m\u001b[0m\u001b[0m\n\u001b[0;32m   3084\u001b[0m         \u001b[1;32mif\u001b[0m \u001b[0mtolerance\u001b[0m \u001b[1;32mis\u001b[0m \u001b[1;32mnot\u001b[0m \u001b[1;32mNone\u001b[0m\u001b[1;33m:\u001b[0m\u001b[1;33m\u001b[0m\u001b[1;33m\u001b[0m\u001b[0m\n",
      "\u001b[1;31mKeyError\u001b[0m: ''"
     ]
    }
   ],
   "source": [
    "#For the df_college dataframe, make a histogram with upper act_iqr/lower act_iqr and \n",
    "\n",
    "#plt.hist(df_college[''])"
   ]
  },
  {
   "cell_type": "code",
   "execution_count": null,
   "metadata": {},
   "outputs": [],
   "source": [
    "# Which California school districts have the highest and lowest mean test scores?\n",
    "# use something like this\n",
    "#penguins.groupby('sex').mean()[['body_mass_(g)']]\n",
    "\n",
    "# or - for each district, how do the ap scores and act scores compare?"
   ]
  },
  {
   "cell_type": "code",
   "execution_count": null,
   "metadata": {},
   "outputs": [],
   "source": [
    "# Which colleges have the highest median SAT and ACT scores for admittance?"
   ]
  },
  {
   "cell_type": "code",
   "execution_count": null,
   "metadata": {},
   "outputs": [],
   "source": [
    "# High AP Scores = High ACT Scores = Better College Options\n",
    "# Create a new column in ap_act_df that gives you the average ap score (on a range from 1 to 5), THEN,\n",
    "# you could correlate the average ap score column with the different average act scores.(Show this with a scatterplot?) \n",
    "# Once we have correlation,\n",
    "# we can say that lower ap scores result in lower act scores, and vice versa.\n",
    "# You could also groupby act scores in the higher range, and get a snapshot of what you want your ap scores to be\n",
    "# in order to get an act score in that range\n",
    "\n",
    "# create a histogram of act test scores?\n",
    "#plt.hist()"
   ]
  },
  {
   "cell_type": "markdown",
   "metadata": {},
   "source": [
    "## Visualize the Data\n",
    "\n",
    "There's not a magic bullet recommendation for the right number of plots to understand a given dataset, but visualizing your data is *always* a good idea. Not only does it allow you to quickly convey your findings (even if you have a non-technical audience), it will often reveal trends in your data that escaped you when you were looking only at numbers. It is important to not only create visualizations, but to **interpret your visualizations** as well.\n",
    "\n",
    "**Every plot should**:\n",
    "- Have a title\n",
    "- Have axis labels\n",
    "- Have appropriate tick labels\n",
    "- Text is legible in a plot\n",
    "- Plots demonstrate meaningful and valid relationships\n",
    "- Have an interpretation to aid understanding\n",
    "\n",
    "Here is an example of what your plots should look like following the above guidelines. Note that while the content of this example is unrelated, the principles of visualization hold:\n",
    "\n",
    "![](https://snag.gy/hCBR1U.jpg)\n",
    "*Interpretation: The above image shows that as we increase our spending on advertising, our sales numbers also tend to increase. There is a positive correlation between advertising spending and sales.*\n",
    "\n",
    "---\n",
    "\n",
    "Here are some prompts to get you started with visualizations. Feel free to add additional visualizations as you see fit:\n",
    "1. Use Seaborn's heatmap with pandas `.corr()` to visualize correlations between all numeric features.\n",
    "    - Heatmaps are generally not appropriate for presentations, and should often be excluded from reports as they can be visually overwhelming. **However**, they can be extremely useful in identify relationships of potential interest (as well as identifying potential collinearity before modeling).\n",
    "    - Please take time to format your output, adding a title. Look through some of the additional arguments and options. (Axis labels aren't really necessary, as long as the title is informative).\n",
    "2. Visualize distributions using histograms. If you have a lot, consider writing a custom function and use subplots.\n",
    "    - *OPTIONAL*: Summarize the underlying distributions of your features (in words & statistics)\n",
    "         - Be thorough in your verbal description of these distributions.\n",
    "         - Be sure to back up these summaries with statistics.\n",
    "         - We generally assume that data we sample from a population will be normally distributed. Do we observe this trend? Explain your answers for each distribution and how you think this will affect estimates made from these data.\n",
    "3. Plot and interpret boxplots. \n",
    "    - Boxplots demonstrate central tendency and spread in variables. In a certain sense, these are somewhat redundant with histograms, but you may be better able to identify clear outliers or differences in IQR, etc.\n",
    "    - Multiple values can be plotted to a single boxplot as long as they are of the same relative scale (meaning they have similar min/max values).\n",
    "    - Each boxplot should:\n",
    "        - Only include variables of a similar scale\n",
    "        - Have clear labels for each variable\n",
    "        - Have appropriate titles and labels\n",
    "4. Plot and interpret scatter plots to view relationships between features. Feel free to write a custom function, and subplot if you'd like. Functions save both time and space.\n",
    "    - Your plots should have:\n",
    "        - Two clearly labeled axes\n",
    "        - A proper title\n",
    "        - Colors and symbols that are clear and unmistakable\n",
    "5. Additional plots of your choosing.\n",
    "    - Are there any additional trends or relationships you haven't explored? Was there something interesting you saw that you'd like to dive further into? It's likely that there are a few more plots you might want to generate to support your narrative and recommendations that you are building toward. **As always, make sure you're interpreting your plots as you go**."
   ]
  },
  {
   "cell_type": "code",
   "execution_count": null,
   "metadata": {},
   "outputs": [],
   "source": [
    "# Code"
   ]
  },
  {
   "cell_type": "markdown",
   "metadata": {},
   "source": [
    "## Conclusions and Recommendations"
   ]
  },
  {
   "cell_type": "markdown",
   "metadata": {},
   "source": [
    "Based on your exploration of the data, what are you key takeaways and recommendations? Make sure to answer your question of interest or address your problem statement here."
   ]
  },
  {
   "cell_type": "markdown",
   "metadata": {},
   "source": [
    "**To-Do:** *Edit this cell with your conclusions and recommendations.*"
   ]
  },
  {
   "cell_type": "markdown",
   "metadata": {},
   "source": [
    "Don't forget to create your README!\n",
    "\n",
    "**To-Do:** *If you combine your problem statement, data dictionary, brief summary of your analysis, and conclusions/recommendations, you have an amazing README.md file that quickly aligns your audience to the contents of your project.* Don't forget to cite your data sources!"
   ]
  }
 ],
 "metadata": {
  "anaconda-cloud": {},
  "kernelspec": {
   "display_name": "Python 3",
   "language": "python",
   "name": "python3"
  },
  "language_info": {
   "codemirror_mode": {
    "name": "ipython",
    "version": 3
   },
   "file_extension": ".py",
   "mimetype": "text/x-python",
   "name": "python",
   "nbconvert_exporter": "python",
   "pygments_lexer": "ipython3",
   "version": "3.8.8"
  }
 },
 "nbformat": 4,
 "nbformat_minor": 4
}
