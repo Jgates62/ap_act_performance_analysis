{
 "cells": [
  {
   "cell_type": "code",
   "execution_count": 2,
   "id": "dfeb4a9b",
   "metadata": {},
   "outputs": [],
   "source": [
    "import pandas as pd\n",
    "import numpy as np"
   ]
  },
  {
   "cell_type": "code",
   "execution_count": 3,
   "id": "71b80643",
   "metadata": {},
   "outputs": [
    {
     "name": "stdout",
     "output_type": "stream",
     "text": [
      "(2580, 26)\n"
     ]
    },
    {
     "data": {
      "text/plain": [
       "2036     0.0\n",
       "1535     1.0\n",
       "98       1.0\n",
       "515      1.0\n",
       "1404     1.0\n",
       "        ... \n",
       "2022    58.0\n",
       "2479    58.0\n",
       "1090    58.0\n",
       "888     58.0\n",
       "2579     NaN\n",
       "Name: CCode, Length: 2580, dtype: float64"
      ]
     },
     "execution_count": 3,
     "metadata": {},
     "output_type": "execute_result"
    }
   ],
   "source": [
    "df_sat = pd.read_csv(\"../data/sat_2019_ca.csv\")\n",
    "print(df_sat.shape)\n",
    "df_sat['CCode'].sort_values() #2018-2019\n",
    "#df_sat.head() #2018-2019"
   ]
  },
  {
   "cell_type": "code",
   "execution_count": 4,
   "id": "5e7ef1ce",
   "metadata": {},
   "outputs": [
    {
     "name": "stdout",
     "output_type": "stream",
     "text": [
      "(2310, 18)\n"
     ]
    },
    {
     "data": {
      "text/plain": [
       "2070     0.0\n",
       "1809     1.0\n",
       "578      1.0\n",
       "599      1.0\n",
       "619      1.0\n",
       "        ... \n",
       "957     58.0\n",
       "2268    58.0\n",
       "1642    58.0\n",
       "1643    58.0\n",
       "2309     NaN\n",
       "Name: CCode, Length: 2310, dtype: float64"
      ]
     },
     "execution_count": 4,
     "metadata": {},
     "output_type": "execute_result"
    }
   ],
   "source": [
    "df_act = pd.read_csv(\"../data/act_2019_ca.csv\")\n",
    "print(df_act.shape)\n",
    "df_act['CCode'].sort_values() #2018-2019\n",
    "#df_act.head() #2018-2019"
   ]
  },
  {
   "cell_type": "code",
   "execution_count": 5,
   "id": "b1e64757",
   "metadata": {},
   "outputs": [
    {
     "data": {
      "text/html": [
       "<div>\n",
       "<style scoped>\n",
       "    .dataframe tbody tr th:only-of-type {\n",
       "        vertical-align: middle;\n",
       "    }\n",
       "\n",
       "    .dataframe tbody tr th {\n",
       "        vertical-align: top;\n",
       "    }\n",
       "\n",
       "    .dataframe thead th {\n",
       "        text-align: right;\n",
       "    }\n",
       "</style>\n",
       "<table border=\"1\" class=\"dataframe\">\n",
       "  <thead>\n",
       "    <tr style=\"text-align: right;\">\n",
       "      <th></th>\n",
       "      <th>CO Code</th>\n",
       "      <th>District Code</th>\n",
       "      <th>District</th>\n",
       "      <th>EDP 365</th>\n",
       "      <th>Current\\nExpense ADA</th>\n",
       "      <th>Current\\nExpense Per ADA</th>\n",
       "      <th>LEA Type</th>\n",
       "    </tr>\n",
       "  </thead>\n",
       "  <tbody>\n",
       "    <tr>\n",
       "      <th>0</th>\n",
       "      <td>1</td>\n",
       "      <td>61119</td>\n",
       "      <td>Alameda Unified</td>\n",
       "      <td>117,225,882.50</td>\n",
       "      <td>8,968.85</td>\n",
       "      <td>13,070.34</td>\n",
       "      <td>Unified</td>\n",
       "    </tr>\n",
       "    <tr>\n",
       "      <th>1</th>\n",
       "      <td>1</td>\n",
       "      <td>61127</td>\n",
       "      <td>Albany City Unified</td>\n",
       "      <td>46,611,059.59</td>\n",
       "      <td>3,544.52</td>\n",
       "      <td>13,150.18</td>\n",
       "      <td>Unified</td>\n",
       "    </tr>\n",
       "    <tr>\n",
       "      <th>2</th>\n",
       "      <td>1</td>\n",
       "      <td>61143</td>\n",
       "      <td>Berkeley Unified</td>\n",
       "      <td>159,457,818.49</td>\n",
       "      <td>9,356.44</td>\n",
       "      <td>17,042.57</td>\n",
       "      <td>Unified</td>\n",
       "    </tr>\n",
       "    <tr>\n",
       "      <th>3</th>\n",
       "      <td>1</td>\n",
       "      <td>61150</td>\n",
       "      <td>Castro Valley Unified</td>\n",
       "      <td>102,239,937.34</td>\n",
       "      <td>8,940.20</td>\n",
       "      <td>11,435.98</td>\n",
       "      <td>Unified</td>\n",
       "    </tr>\n",
       "    <tr>\n",
       "      <th>4</th>\n",
       "      <td>1</td>\n",
       "      <td>61168</td>\n",
       "      <td>Emery Unified</td>\n",
       "      <td>12,504,023.21</td>\n",
       "      <td>681.82</td>\n",
       "      <td>18,339.19</td>\n",
       "      <td>Unified</td>\n",
       "    </tr>\n",
       "  </tbody>\n",
       "</table>\n",
       "</div>"
      ],
      "text/plain": [
       "   CO Code  District Code               District         EDP 365  \\\n",
       "0        1          61119        Alameda Unified  117,225,882.50   \n",
       "1        1          61127    Albany City Unified   46,611,059.59   \n",
       "2        1          61143       Berkeley Unified  159,457,818.49   \n",
       "3        1          61150  Castro Valley Unified  102,239,937.34   \n",
       "4        1          61168          Emery Unified   12,504,023.21   \n",
       "\n",
       "  Current\\nExpense ADA Current\\nExpense Per ADA LEA Type  \n",
       "0             8,968.85                13,070.34  Unified  \n",
       "1             3,544.52                13,150.18  Unified  \n",
       "2             9,356.44                17,042.57  Unified  \n",
       "3             8,940.20                11,435.98  Unified  \n",
       "4               681.82                18,339.19  Unified  "
      ]
     },
     "execution_count": 5,
     "metadata": {},
     "output_type": "execute_result"
    }
   ],
   "source": [
    "df_ada1 = pd.read_csv(\"../data/sht1_ca_ada_currentexpense1819.csv\")\n",
    "df_ada1.head()"
   ]
  },
  {
   "cell_type": "code",
   "execution_count": 7,
   "id": "70a6e9cf",
   "metadata": {},
   "outputs": [
    {
     "data": {
      "text/html": [
       "<div>\n",
       "<style scoped>\n",
       "    .dataframe tbody tr th:only-of-type {\n",
       "        vertical-align: middle;\n",
       "    }\n",
       "\n",
       "    .dataframe tbody tr th {\n",
       "        vertical-align: top;\n",
       "    }\n",
       "\n",
       "    .dataframe thead th {\n",
       "        text-align: right;\n",
       "    }\n",
       "</style>\n",
       "<table border=\"1\" class=\"dataframe\">\n",
       "  <thead>\n",
       "    <tr style=\"text-align: right;\">\n",
       "      <th></th>\n",
       "      <th>County</th>\n",
       "      <th>EDP 365</th>\n",
       "      <th>Current Expense\\nADA</th>\n",
       "      <th>Current\\nExpense Per\\nADA</th>\n",
       "    </tr>\n",
       "  </thead>\n",
       "  <tbody>\n",
       "    <tr>\n",
       "      <th>0</th>\n",
       "      <td>Alameda</td>\n",
       "      <td>2,545,839,027.30</td>\n",
       "      <td>192,941.20</td>\n",
       "      <td>13,194.90</td>\n",
       "    </tr>\n",
       "    <tr>\n",
       "      <th>1</th>\n",
       "      <td>Alpine</td>\n",
       "      <td>3,202,880.16</td>\n",
       "      <td>74.47</td>\n",
       "      <td>43,009.00</td>\n",
       "    </tr>\n",
       "    <tr>\n",
       "      <th>2</th>\n",
       "      <td>Amador</td>\n",
       "      <td>36,092,488.90</td>\n",
       "      <td>3,775.31</td>\n",
       "      <td>9,560.14</td>\n",
       "    </tr>\n",
       "    <tr>\n",
       "      <th>3</th>\n",
       "      <td>Butte</td>\n",
       "      <td>322,995,666.90</td>\n",
       "      <td>25,905.57</td>\n",
       "      <td>12,468.19</td>\n",
       "    </tr>\n",
       "    <tr>\n",
       "      <th>4</th>\n",
       "      <td>Calaveras</td>\n",
       "      <td>59,126,582.49</td>\n",
       "      <td>4,515.02</td>\n",
       "      <td>13,095.53</td>\n",
       "    </tr>\n",
       "  </tbody>\n",
       "</table>\n",
       "</div>"
      ],
      "text/plain": [
       "      County           EDP 365 Current Expense\\nADA Current\\nExpense Per\\nADA\n",
       "0    Alameda  2,545,839,027.30           192,941.20                 13,194.90\n",
       "1     Alpine      3,202,880.16                74.47                 43,009.00\n",
       "2     Amador     36,092,488.90             3,775.31                  9,560.14\n",
       "3      Butte    322,995,666.90            25,905.57                 12,468.19\n",
       "4  Calaveras     59,126,582.49             4,515.02                 13,095.53"
      ]
     },
     "execution_count": 7,
     "metadata": {},
     "output_type": "execute_result"
    }
   ],
   "source": [
    "df_ada2 = pd.read_csv(\"../data/sht2_ca_ada_currentexpense1819.csv\")\n",
    "df_ada2.head()"
   ]
  },
  {
   "cell_type": "code",
   "execution_count": 6,
   "id": "2e75dcac",
   "metadata": {},
   "outputs": [],
   "source": [
    "# Merge on CName? or CCode?  CCode range is 1:58 on all"
   ]
  },
  {
   "cell_type": "code",
   "execution_count": null,
   "id": "29f6f2f3",
   "metadata": {},
   "outputs": [],
   "source": []
  }
 ],
 "metadata": {
  "kernelspec": {
   "display_name": "Python 3",
   "language": "python",
   "name": "python3"
  },
  "language_info": {
   "codemirror_mode": {
    "name": "ipython",
    "version": 3
   },
   "file_extension": ".py",
   "mimetype": "text/x-python",
   "name": "python",
   "nbconvert_exporter": "python",
   "pygments_lexer": "ipython3",
   "version": "3.8.8"
  }
 },
 "nbformat": 4,
 "nbformat_minor": 5
}
